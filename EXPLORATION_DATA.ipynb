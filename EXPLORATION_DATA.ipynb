{
 "cells": [
  {
   "cell_type": "markdown",
   "metadata": {},
   "source": [
    "# Limpieza de datos, preparación de la data, y análisis de estadísticas"
   ]
  },
  {
   "cell_type": "markdown",
   "metadata": {},
   "source": [
    " "
   ]
  },
  {
   "cell_type": "code",
   "execution_count": 1,
   "metadata": {},
   "outputs": [],
   "source": [
    "import pandas as pd\n",
    "import seaborn as sns\n",
    "import matplotlib.pyplot as plt\n",
    "import numpy as np"
   ]
  },
  {
   "cell_type": "markdown",
   "metadata": {},
   "source": [
    "Leemos el dataset construido en la primera parte:"
   ]
  },
  {
   "cell_type": "code",
   "execution_count": 2,
   "metadata": {},
   "outputs": [],
   "source": [
    "dataset=pd.read_csv(\"./files/dataset_productos.csv\")"
   ]
  },
  {
   "cell_type": "code",
   "execution_count": 66,
   "metadata": {},
   "outputs": [
    {
     "data": {
      "text/plain": [
       "(23601, 37)"
      ]
     },
     "execution_count": 66,
     "metadata": {},
     "output_type": "execute_result"
    }
   ],
   "source": [
    "dataset.shape"
   ]
  },
  {
   "cell_type": "code",
   "execution_count": 3,
   "metadata": {},
   "outputs": [
    {
     "data": {
      "text/html": [
       "<div>\n",
       "<style scoped>\n",
       "    .dataframe tbody tr th:only-of-type {\n",
       "        vertical-align: middle;\n",
       "    }\n",
       "\n",
       "    .dataframe tbody tr th {\n",
       "        vertical-align: top;\n",
       "    }\n",
       "\n",
       "    .dataframe thead th {\n",
       "        text-align: right;\n",
       "    }\n",
       "</style>\n",
       "<table border=\"1\" class=\"dataframe\">\n",
       "  <thead>\n",
       "    <tr style=\"text-align: right;\">\n",
       "      <th></th>\n",
       "      <th>object_id</th>\n",
       "      <th>object_site_id</th>\n",
       "      <th>object_title</th>\n",
       "      <th>object_price</th>\n",
       "      <th>object_sale_price</th>\n",
       "      <th>object_currency_id</th>\n",
       "      <th>object_available_quantity</th>\n",
       "      <th>object_sold_quantity</th>\n",
       "      <th>object_buying_mode</th>\n",
       "      <th>object_listing_type_id</th>\n",
       "      <th>...</th>\n",
       "      <th>ship_storepickup</th>\n",
       "      <th>seller_level</th>\n",
       "      <th>seller_power_status</th>\n",
       "      <th>sellertransactions_canceled</th>\n",
       "      <th>sellertransactions_completed</th>\n",
       "      <th>sellertransactions_total</th>\n",
       "      <th>sellertransactions_period</th>\n",
       "      <th>sellerrating_negative</th>\n",
       "      <th>sellerrating_neutral</th>\n",
       "      <th>sellerrating_positive</th>\n",
       "    </tr>\n",
       "  </thead>\n",
       "  <tbody>\n",
       "    <tr>\n",
       "      <th>0</th>\n",
       "      <td>MCO589643727</td>\n",
       "      <td>MCO</td>\n",
       "      <td>Soplete Cohiba Encendedor Recargable Premiun  ...</td>\n",
       "      <td>184900.0</td>\n",
       "      <td>NaN</td>\n",
       "      <td>COP</td>\n",
       "      <td>1</td>\n",
       "      <td>5</td>\n",
       "      <td>buy_it_now</td>\n",
       "      <td>gold_special</td>\n",
       "      <td>...</td>\n",
       "      <td>False</td>\n",
       "      <td>5_green</td>\n",
       "      <td>silver</td>\n",
       "      <td>1</td>\n",
       "      <td>140</td>\n",
       "      <td>141</td>\n",
       "      <td>historic</td>\n",
       "      <td>0.00</td>\n",
       "      <td>0.04</td>\n",
       "      <td>0.96</td>\n",
       "    </tr>\n",
       "    <tr>\n",
       "      <th>1</th>\n",
       "      <td>MCO608034473</td>\n",
       "      <td>MCO</td>\n",
       "      <td>Estearato De Magnesio</td>\n",
       "      <td>68000.0</td>\n",
       "      <td>NaN</td>\n",
       "      <td>COP</td>\n",
       "      <td>150</td>\n",
       "      <td>4</td>\n",
       "      <td>buy_it_now</td>\n",
       "      <td>gold_pro</td>\n",
       "      <td>...</td>\n",
       "      <td>False</td>\n",
       "      <td>5_green</td>\n",
       "      <td>platinum</td>\n",
       "      <td>225</td>\n",
       "      <td>8995</td>\n",
       "      <td>9220</td>\n",
       "      <td>historic</td>\n",
       "      <td>0.02</td>\n",
       "      <td>0.01</td>\n",
       "      <td>0.97</td>\n",
       "    </tr>\n",
       "    <tr>\n",
       "      <th>2</th>\n",
       "      <td>MCO535934227</td>\n",
       "      <td>MCO</td>\n",
       "      <td>Escapulario En Acero Dorado De La Virgen Del C...</td>\n",
       "      <td>28000.0</td>\n",
       "      <td>NaN</td>\n",
       "      <td>COP</td>\n",
       "      <td>1</td>\n",
       "      <td>25</td>\n",
       "      <td>buy_it_now</td>\n",
       "      <td>gold_pro</td>\n",
       "      <td>...</td>\n",
       "      <td>False</td>\n",
       "      <td>5_green</td>\n",
       "      <td>silver</td>\n",
       "      <td>69</td>\n",
       "      <td>2052</td>\n",
       "      <td>2121</td>\n",
       "      <td>historic</td>\n",
       "      <td>0.00</td>\n",
       "      <td>0.01</td>\n",
       "      <td>0.99</td>\n",
       "    </tr>\n",
       "  </tbody>\n",
       "</table>\n",
       "<p>3 rows × 37 columns</p>\n",
       "</div>"
      ],
      "text/plain": [
       "      object_id object_site_id  \\\n",
       "0  MCO589643727            MCO   \n",
       "1  MCO608034473            MCO   \n",
       "2  MCO535934227            MCO   \n",
       "\n",
       "                                        object_title  object_price  \\\n",
       "0  Soplete Cohiba Encendedor Recargable Premiun  ...      184900.0   \n",
       "1                              Estearato De Magnesio       68000.0   \n",
       "2  Escapulario En Acero Dorado De La Virgen Del C...       28000.0   \n",
       "\n",
       "   object_sale_price object_currency_id  object_available_quantity  \\\n",
       "0                NaN                COP                          1   \n",
       "1                NaN                COP                        150   \n",
       "2                NaN                COP                          1   \n",
       "\n",
       "   object_sold_quantity object_buying_mode object_listing_type_id  ...  \\\n",
       "0                     5         buy_it_now           gold_special  ...   \n",
       "1                     4         buy_it_now               gold_pro  ...   \n",
       "2                    25         buy_it_now               gold_pro  ...   \n",
       "\n",
       "  ship_storepickup seller_level seller_power_status  \\\n",
       "0            False      5_green              silver   \n",
       "1            False      5_green            platinum   \n",
       "2            False      5_green              silver   \n",
       "\n",
       "  sellertransactions_canceled sellertransactions_completed  \\\n",
       "0                           1                          140   \n",
       "1                         225                         8995   \n",
       "2                          69                         2052   \n",
       "\n",
       "   sellertransactions_total  sellertransactions_period sellerrating_negative  \\\n",
       "0                       141                   historic                  0.00   \n",
       "1                      9220                   historic                  0.02   \n",
       "2                      2121                   historic                  0.00   \n",
       "\n",
       "   sellerrating_neutral sellerrating_positive  \n",
       "0                  0.04                  0.96  \n",
       "1                  0.01                  0.97  \n",
       "2                  0.01                  0.99  \n",
       "\n",
       "[3 rows x 37 columns]"
      ]
     },
     "execution_count": 3,
     "metadata": {},
     "output_type": "execute_result"
    }
   ],
   "source": [
    "dataset.head(3)"
   ]
  },
  {
   "cell_type": "markdown",
   "metadata": {},
   "source": [
    " "
   ]
  },
  {
   "cell_type": "markdown",
   "metadata": {},
   "source": [
    "Hacemos un primer acercamiento a la data:"
   ]
  },
  {
   "cell_type": "code",
   "execution_count": 5,
   "metadata": {},
   "outputs": [
    {
     "name": "stdout",
     "output_type": "stream",
     "text": [
      "<class 'pandas.core.frame.DataFrame'>\n",
      "RangeIndex: 23601 entries, 0 to 23600\n",
      "Data columns (total 37 columns):\n",
      " #   Column                        Non-Null Count  Dtype  \n",
      "---  ------                        --------------  -----  \n",
      " 0   object_id                     23601 non-null  object \n",
      " 1   object_site_id                23601 non-null  object \n",
      " 2   object_title                  23601 non-null  object \n",
      " 3   object_price                  23153 non-null  float64\n",
      " 4   object_sale_price             0 non-null      float64\n",
      " 5   object_currency_id            23153 non-null  object \n",
      " 6   object_available_quantity     23601 non-null  int64  \n",
      " 7   object_sold_quantity          23601 non-null  int64  \n",
      " 8   object_buying_mode            23601 non-null  object \n",
      " 9   object_listing_type_id        23601 non-null  object \n",
      " 10  object_stop_time              23601 non-null  object \n",
      " 11  object_condition              22851 non-null  object \n",
      " 12  object_permalink              23601 non-null  object \n",
      " 13  object_thumbnail              23594 non-null  object \n",
      " 14  object_thumbnail_id           23409 non-null  object \n",
      " 15  object_accepts_mercadopago    23601 non-null  bool   \n",
      " 16  object_original_price         1806 non-null   float64\n",
      " 17  object_category_id            23601 non-null  object \n",
      " 18  object_official_store_id      2222 non-null   float64\n",
      " 19  object_domain_id              23093 non-null  object \n",
      " 20  object_catalog_product_id     2825 non-null   object \n",
      " 21  object_use_thumbnail_id       23601 non-null  bool   \n",
      " 22  General_category_id           23601 non-null  object \n",
      " 23  General_category_name         23601 non-null  object \n",
      " 24  free_ship                     23601 non-null  bool   \n",
      " 25  ship_mode                     23601 non-null  object \n",
      " 26  ship_logistic_type            21865 non-null  object \n",
      " 27  ship_storepickup              23601 non-null  bool   \n",
      " 28  seller_level                  21201 non-null  object \n",
      " 29  seller_power_status           18680 non-null  object \n",
      " 30  sellertransactions_canceled   23601 non-null  int64  \n",
      " 31  sellertransactions_completed  23601 non-null  int64  \n",
      " 32  sellertransactions_total      23601 non-null  int64  \n",
      " 33  sellertransactions_period     23601 non-null  object \n",
      " 34  sellerrating_negative         23601 non-null  float64\n",
      " 35  sellerrating_neutral          23601 non-null  float64\n",
      " 36  sellerrating_positive         23601 non-null  float64\n",
      "dtypes: bool(4), float64(7), int64(5), object(21)\n",
      "memory usage: 6.0+ MB\n",
      "None\n"
     ]
    }
   ],
   "source": [
    "\n",
    "print(dataset.info())\n"
   ]
  },
  {
   "cell_type": "markdown",
   "metadata": {},
   "source": [
    "De este primer vistazo de la data se evidencia que la varable orginal_price tiene 1806 registros no nulos, por lo cual puede afirmarse que de la muestra construida a la fecha se presenta un 7,6% de productos con descuento. También puede verse que la variable object_sale_price no contiene información, por lo cual se eliminará del dataset."
   ]
  },
  {
   "cell_type": "markdown",
   "metadata": {},
   "source": [
    " "
   ]
  },
  {
   "cell_type": "markdown",
   "metadata": {},
   "source": [
    "# Limpieza de los datos"
   ]
  },
  {
   "cell_type": "markdown",
   "metadata": {},
   "source": [
    "Se eliminan las variables totalmente nulas: "
   ]
  },
  {
   "cell_type": "code",
   "execution_count": 261,
   "metadata": {},
   "outputs": [],
   "source": [
    "dataset=dataset.drop(['object_sale_price'], axis=1)"
   ]
  },
  {
   "cell_type": "code",
   "execution_count": 68,
   "metadata": {},
   "outputs": [
    {
     "data": {
      "text/plain": [
       "(23601, 36)"
      ]
     },
     "execution_count": 68,
     "metadata": {},
     "output_type": "execute_result"
    }
   ],
   "source": [
    "dataset.shape"
   ]
  },
  {
   "cell_type": "code",
   "execution_count": 8,
   "metadata": {},
   "outputs": [
    {
     "data": {
      "text/html": [
       "<div>\n",
       "<style scoped>\n",
       "    .dataframe tbody tr th:only-of-type {\n",
       "        vertical-align: middle;\n",
       "    }\n",
       "\n",
       "    .dataframe tbody tr th {\n",
       "        vertical-align: top;\n",
       "    }\n",
       "\n",
       "    .dataframe thead th {\n",
       "        text-align: right;\n",
       "    }\n",
       "</style>\n",
       "<table border=\"1\" class=\"dataframe\">\n",
       "  <thead>\n",
       "    <tr style=\"text-align: right;\">\n",
       "      <th></th>\n",
       "      <th>object_id</th>\n",
       "      <th>object_site_id</th>\n",
       "      <th>object_title</th>\n",
       "      <th>object_price</th>\n",
       "      <th>object_currency_id</th>\n",
       "      <th>object_available_quantity</th>\n",
       "      <th>object_sold_quantity</th>\n",
       "      <th>object_buying_mode</th>\n",
       "      <th>object_listing_type_id</th>\n",
       "      <th>object_stop_time</th>\n",
       "      <th>...</th>\n",
       "      <th>ship_storepickup</th>\n",
       "      <th>seller_level</th>\n",
       "      <th>seller_power_status</th>\n",
       "      <th>sellertransactions_canceled</th>\n",
       "      <th>sellertransactions_completed</th>\n",
       "      <th>sellertransactions_total</th>\n",
       "      <th>sellertransactions_period</th>\n",
       "      <th>sellerrating_negative</th>\n",
       "      <th>sellerrating_neutral</th>\n",
       "      <th>sellerrating_positive</th>\n",
       "    </tr>\n",
       "  </thead>\n",
       "  <tbody>\n",
       "    <tr>\n",
       "      <th>0</th>\n",
       "      <td>MCO589643727</td>\n",
       "      <td>MCO</td>\n",
       "      <td>Soplete Cohiba Encendedor Recargable Premiun  ...</td>\n",
       "      <td>184900.0</td>\n",
       "      <td>COP</td>\n",
       "      <td>1</td>\n",
       "      <td>5</td>\n",
       "      <td>buy_it_now</td>\n",
       "      <td>gold_special</td>\n",
       "      <td>2040-10-11T04:00:00.000Z</td>\n",
       "      <td>...</td>\n",
       "      <td>False</td>\n",
       "      <td>5_green</td>\n",
       "      <td>silver</td>\n",
       "      <td>1</td>\n",
       "      <td>140</td>\n",
       "      <td>141</td>\n",
       "      <td>historic</td>\n",
       "      <td>0.00</td>\n",
       "      <td>0.04</td>\n",
       "      <td>0.96</td>\n",
       "    </tr>\n",
       "    <tr>\n",
       "      <th>1</th>\n",
       "      <td>MCO608034473</td>\n",
       "      <td>MCO</td>\n",
       "      <td>Estearato De Magnesio</td>\n",
       "      <td>68000.0</td>\n",
       "      <td>COP</td>\n",
       "      <td>150</td>\n",
       "      <td>4</td>\n",
       "      <td>buy_it_now</td>\n",
       "      <td>gold_pro</td>\n",
       "      <td>2041-02-12T04:00:00.000Z</td>\n",
       "      <td>...</td>\n",
       "      <td>False</td>\n",
       "      <td>5_green</td>\n",
       "      <td>platinum</td>\n",
       "      <td>225</td>\n",
       "      <td>8995</td>\n",
       "      <td>9220</td>\n",
       "      <td>historic</td>\n",
       "      <td>0.02</td>\n",
       "      <td>0.01</td>\n",
       "      <td>0.97</td>\n",
       "    </tr>\n",
       "  </tbody>\n",
       "</table>\n",
       "<p>2 rows × 36 columns</p>\n",
       "</div>"
      ],
      "text/plain": [
       "      object_id object_site_id  \\\n",
       "0  MCO589643727            MCO   \n",
       "1  MCO608034473            MCO   \n",
       "\n",
       "                                        object_title  object_price  \\\n",
       "0  Soplete Cohiba Encendedor Recargable Premiun  ...      184900.0   \n",
       "1                              Estearato De Magnesio       68000.0   \n",
       "\n",
       "  object_currency_id  object_available_quantity  object_sold_quantity  \\\n",
       "0                COP                          1                     5   \n",
       "1                COP                        150                     4   \n",
       "\n",
       "  object_buying_mode object_listing_type_id          object_stop_time  ...  \\\n",
       "0         buy_it_now           gold_special  2040-10-11T04:00:00.000Z  ...   \n",
       "1         buy_it_now               gold_pro  2041-02-12T04:00:00.000Z  ...   \n",
       "\n",
       "  ship_storepickup seller_level seller_power_status  \\\n",
       "0            False      5_green              silver   \n",
       "1            False      5_green            platinum   \n",
       "\n",
       "  sellertransactions_canceled  sellertransactions_completed  \\\n",
       "0                           1                           140   \n",
       "1                         225                          8995   \n",
       "\n",
       "   sellertransactions_total sellertransactions_period  sellerrating_negative  \\\n",
       "0                       141                  historic                   0.00   \n",
       "1                      9220                  historic                   0.02   \n",
       "\n",
       "  sellerrating_neutral sellerrating_positive  \n",
       "0                 0.04                  0.96  \n",
       "1                 0.01                  0.97  \n",
       "\n",
       "[2 rows x 36 columns]"
      ]
     },
     "execution_count": 8,
     "metadata": {},
     "output_type": "execute_result"
    }
   ],
   "source": [
    "dataset.head(2)"
   ]
  },
  {
   "cell_type": "markdown",
   "metadata": {},
   "source": [
    "## Ver y elimininar duplicados"
   ]
  },
  {
   "cell_type": "markdown",
   "metadata": {},
   "source": [
    " "
   ]
  },
  {
   "cell_type": "markdown",
   "metadata": {},
   "source": [
    "veamos si la data tiene duplicados:"
   ]
  },
  {
   "cell_type": "code",
   "execution_count": 262,
   "metadata": {},
   "outputs": [
    {
     "data": {
      "text/plain": [
       "1297"
      ]
     },
     "execution_count": 262,
     "metadata": {},
     "output_type": "execute_result"
    }
   ],
   "source": [
    "dataset.duplicated(subset=['object_id']).sum()"
   ]
  },
  {
   "cell_type": "markdown",
   "metadata": {},
   "source": [
    "ahora se quiere mirar si existe una columna que genera estos duplicados:"
   ]
  },
  {
   "cell_type": "code",
   "execution_count": 4,
   "metadata": {},
   "outputs": [
    {
     "data": {
      "text/html": [
       "<div>\n",
       "<style scoped>\n",
       "    .dataframe tbody tr th:only-of-type {\n",
       "        vertical-align: middle;\n",
       "    }\n",
       "\n",
       "    .dataframe tbody tr th {\n",
       "        vertical-align: top;\n",
       "    }\n",
       "\n",
       "    .dataframe thead th {\n",
       "        text-align: right;\n",
       "    }\n",
       "</style>\n",
       "<table border=\"1\" class=\"dataframe\">\n",
       "  <thead>\n",
       "    <tr style=\"text-align: right;\">\n",
       "      <th></th>\n",
       "      <th>object_id</th>\n",
       "      <th>index</th>\n",
       "    </tr>\n",
       "  </thead>\n",
       "  <tbody>\n",
       "    <tr>\n",
       "      <th>2</th>\n",
       "      <td>MCO443357568</td>\n",
       "      <td>2</td>\n",
       "    </tr>\n",
       "    <tr>\n",
       "      <th>13260</th>\n",
       "      <td>MCO582152367</td>\n",
       "      <td>2</td>\n",
       "    </tr>\n",
       "    <tr>\n",
       "      <th>13221</th>\n",
       "      <td>MCO581996711</td>\n",
       "      <td>2</td>\n",
       "    </tr>\n",
       "    <tr>\n",
       "      <th>13217</th>\n",
       "      <td>MCO581996640</td>\n",
       "      <td>2</td>\n",
       "    </tr>\n",
       "  </tbody>\n",
       "</table>\n",
       "</div>"
      ],
      "text/plain": [
       "          object_id  index\n",
       "2      MCO443357568      2\n",
       "13260  MCO582152367      2\n",
       "13221  MCO581996711      2\n",
       "13217  MCO581996640      2"
      ]
     },
     "execution_count": 4,
     "metadata": {},
     "output_type": "execute_result"
    }
   ],
   "source": [
    "p = dataset.reset_index().groupby('object_id').index.nunique().reset_index()\n",
    "dupli=p.loc[p['index'] > 1].sort_values('index')\n",
    "dupli.head(4)"
   ]
  },
  {
   "cell_type": "code",
   "execution_count": 5,
   "metadata": {},
   "outputs": [
    {
     "data": {
      "text/html": [
       "<div>\n",
       "<style scoped>\n",
       "    .dataframe tbody tr th:only-of-type {\n",
       "        vertical-align: middle;\n",
       "    }\n",
       "\n",
       "    .dataframe tbody tr th {\n",
       "        vertical-align: top;\n",
       "    }\n",
       "\n",
       "    .dataframe thead th {\n",
       "        text-align: right;\n",
       "    }\n",
       "</style>\n",
       "<table border=\"1\" class=\"dataframe\">\n",
       "  <thead>\n",
       "    <tr style=\"text-align: right;\">\n",
       "      <th></th>\n",
       "      <th>object_id</th>\n",
       "      <th>object_site_id</th>\n",
       "      <th>object_title</th>\n",
       "      <th>object_price</th>\n",
       "      <th>object_sale_price</th>\n",
       "      <th>object_currency_id</th>\n",
       "      <th>object_available_quantity</th>\n",
       "      <th>object_sold_quantity</th>\n",
       "      <th>object_buying_mode</th>\n",
       "      <th>object_listing_type_id</th>\n",
       "      <th>object_stop_time</th>\n",
       "      <th>object_condition</th>\n",
       "      <th>object_permalink</th>\n",
       "      <th>object_thumbnail</th>\n",
       "      <th>object_thumbnail_id</th>\n",
       "      <th>object_accepts_mercadopago</th>\n",
       "      <th>object_original_price</th>\n",
       "      <th>object_category_id</th>\n",
       "      <th>object_official_store_id</th>\n",
       "      <th>object_domain_id</th>\n",
       "      <th>object_catalog_product_id</th>\n",
       "      <th>object_use_thumbnail_id</th>\n",
       "      <th>General_category_id</th>\n",
       "      <th>General_category_name</th>\n",
       "      <th>free_ship</th>\n",
       "      <th>ship_mode</th>\n",
       "      <th>ship_logistic_type</th>\n",
       "      <th>ship_storepickup</th>\n",
       "      <th>seller_level</th>\n",
       "      <th>seller_power_status</th>\n",
       "      <th>sellertransactions_canceled</th>\n",
       "      <th>sellertransactions_completed</th>\n",
       "      <th>sellertransactions_total</th>\n",
       "      <th>sellertransactions_period</th>\n",
       "      <th>sellerrating_negative</th>\n",
       "      <th>sellerrating_neutral</th>\n",
       "      <th>sellerrating_positive</th>\n",
       "      <th>index</th>\n",
       "    </tr>\n",
       "  </thead>\n",
       "  <tbody>\n",
       "    <tr>\n",
       "      <th>17990</th>\n",
       "      <td>MCO443357568</td>\n",
       "      <td>MCO</td>\n",
       "      <td>Maquina Peluqueria Corte Cabello Motilar Barbe...</td>\n",
       "      <td>44900.0</td>\n",
       "      <td>NaN</td>\n",
       "      <td>COP</td>\n",
       "      <td>1</td>\n",
       "      <td>500</td>\n",
       "      <td>buy_it_now</td>\n",
       "      <td>gold_special</td>\n",
       "      <td>2040-10-15T10:02:56.000Z</td>\n",
       "      <td>new</td>\n",
       "      <td>https://articulo.mercadolibre.com.co/MCO-44335...</td>\n",
       "      <td>http://http2.mlstatic.com/D_730000-MCO43668937...</td>\n",
       "      <td>730000-MCO43668937696_102020</td>\n",
       "      <td>True</td>\n",
       "      <td>NaN</td>\n",
       "      <td>MCO5411</td>\n",
       "      <td>NaN</td>\n",
       "      <td>MCO-HAIR_CLIPPERS</td>\n",
       "      <td>NaN</td>\n",
       "      <td>True</td>\n",
       "      <td>MCO1246</td>\n",
       "      <td>Belleza y Cuidado Personal</td>\n",
       "      <td>True</td>\n",
       "      <td>me2</td>\n",
       "      <td>cross_docking</td>\n",
       "      <td>False</td>\n",
       "      <td>5_green</td>\n",
       "      <td>platinum</td>\n",
       "      <td>418</td>\n",
       "      <td>9035</td>\n",
       "      <td>9453</td>\n",
       "      <td>historic</td>\n",
       "      <td>0.04</td>\n",
       "      <td>0.05</td>\n",
       "      <td>0.91</td>\n",
       "      <td>2.0</td>\n",
       "    </tr>\n",
       "    <tr>\n",
       "      <th>11431</th>\n",
       "      <td>MCO443357568</td>\n",
       "      <td>MCO</td>\n",
       "      <td>Maquina Peluqueria Corte Cabello Motilar Barbe...</td>\n",
       "      <td>44900.0</td>\n",
       "      <td>NaN</td>\n",
       "      <td>COP</td>\n",
       "      <td>1</td>\n",
       "      <td>500</td>\n",
       "      <td>buy_it_now</td>\n",
       "      <td>gold_special</td>\n",
       "      <td>2040-10-15T10:02:56.000Z</td>\n",
       "      <td>new</td>\n",
       "      <td>https://articulo.mercadolibre.com.co/MCO-44335...</td>\n",
       "      <td>http://http2.mlstatic.com/D_730000-MCO43668937...</td>\n",
       "      <td>730000-MCO43668937696_102020</td>\n",
       "      <td>True</td>\n",
       "      <td>NaN</td>\n",
       "      <td>MCO5411</td>\n",
       "      <td>NaN</td>\n",
       "      <td>MCO-HAIR_CLIPPERS</td>\n",
       "      <td>NaN</td>\n",
       "      <td>True</td>\n",
       "      <td>MCO5726</td>\n",
       "      <td>Electrodomésticos</td>\n",
       "      <td>True</td>\n",
       "      <td>me2</td>\n",
       "      <td>cross_docking</td>\n",
       "      <td>False</td>\n",
       "      <td>5_green</td>\n",
       "      <td>platinum</td>\n",
       "      <td>418</td>\n",
       "      <td>9035</td>\n",
       "      <td>9453</td>\n",
       "      <td>historic</td>\n",
       "      <td>0.04</td>\n",
       "      <td>0.05</td>\n",
       "      <td>0.91</td>\n",
       "      <td>2.0</td>\n",
       "    </tr>\n",
       "    <tr>\n",
       "      <th>9833</th>\n",
       "      <td>MCO445441242</td>\n",
       "      <td>MCO</td>\n",
       "      <td>Aerografo Tipo Lapicero Profesional Bd-128</td>\n",
       "      <td>89900.0</td>\n",
       "      <td>NaN</td>\n",
       "      <td>COP</td>\n",
       "      <td>1</td>\n",
       "      <td>200</td>\n",
       "      <td>buy_it_now</td>\n",
       "      <td>gold_pro</td>\n",
       "      <td>2041-03-30T13:04:21.000Z</td>\n",
       "      <td>new</td>\n",
       "      <td>https://articulo.mercadolibre.com.co/MCO-44544...</td>\n",
       "      <td>http://http2.mlstatic.com/D_668037-MCO31023669...</td>\n",
       "      <td>668037-MCO31023669853_062019</td>\n",
       "      <td>True</td>\n",
       "      <td>NaN</td>\n",
       "      <td>MCO166615</td>\n",
       "      <td>NaN</td>\n",
       "      <td>MCO-AIRBRUSHES</td>\n",
       "      <td>NaN</td>\n",
       "      <td>True</td>\n",
       "      <td>MCO175794</td>\n",
       "      <td>Herramientas</td>\n",
       "      <td>False</td>\n",
       "      <td>me2</td>\n",
       "      <td>fulfillment</td>\n",
       "      <td>False</td>\n",
       "      <td>5_green</td>\n",
       "      <td>platinum</td>\n",
       "      <td>675</td>\n",
       "      <td>26914</td>\n",
       "      <td>27589</td>\n",
       "      <td>historic</td>\n",
       "      <td>0.01</td>\n",
       "      <td>0.01</td>\n",
       "      <td>0.98</td>\n",
       "      <td>2.0</td>\n",
       "    </tr>\n",
       "    <tr>\n",
       "      <th>13402</th>\n",
       "      <td>MCO445441242</td>\n",
       "      <td>MCO</td>\n",
       "      <td>Aerografo Tipo Lapicero Profesional Bd-128</td>\n",
       "      <td>89900.0</td>\n",
       "      <td>NaN</td>\n",
       "      <td>COP</td>\n",
       "      <td>1</td>\n",
       "      <td>200</td>\n",
       "      <td>buy_it_now</td>\n",
       "      <td>gold_pro</td>\n",
       "      <td>2041-03-30T13:04:21.000Z</td>\n",
       "      <td>new</td>\n",
       "      <td>https://articulo.mercadolibre.com.co/MCO-44544...</td>\n",
       "      <td>http://http2.mlstatic.com/D_668037-MCO31023669...</td>\n",
       "      <td>668037-MCO31023669853_062019</td>\n",
       "      <td>True</td>\n",
       "      <td>NaN</td>\n",
       "      <td>MCO166615</td>\n",
       "      <td>NaN</td>\n",
       "      <td>MCO-AIRBRUSHES</td>\n",
       "      <td>NaN</td>\n",
       "      <td>True</td>\n",
       "      <td>MCO172890</td>\n",
       "      <td>Construcción</td>\n",
       "      <td>False</td>\n",
       "      <td>me2</td>\n",
       "      <td>fulfillment</td>\n",
       "      <td>False</td>\n",
       "      <td>5_green</td>\n",
       "      <td>platinum</td>\n",
       "      <td>675</td>\n",
       "      <td>26914</td>\n",
       "      <td>27589</td>\n",
       "      <td>historic</td>\n",
       "      <td>0.01</td>\n",
       "      <td>0.01</td>\n",
       "      <td>0.98</td>\n",
       "      <td>2.0</td>\n",
       "    </tr>\n",
       "  </tbody>\n",
       "</table>\n",
       "</div>"
      ],
      "text/plain": [
       "          object_id object_site_id  \\\n",
       "17990  MCO443357568            MCO   \n",
       "11431  MCO443357568            MCO   \n",
       "9833   MCO445441242            MCO   \n",
       "13402  MCO445441242            MCO   \n",
       "\n",
       "                                            object_title  object_price  \\\n",
       "17990  Maquina Peluqueria Corte Cabello Motilar Barbe...       44900.0   \n",
       "11431  Maquina Peluqueria Corte Cabello Motilar Barbe...       44900.0   \n",
       "9833          Aerografo Tipo Lapicero Profesional Bd-128       89900.0   \n",
       "13402         Aerografo Tipo Lapicero Profesional Bd-128       89900.0   \n",
       "\n",
       "       object_sale_price object_currency_id  object_available_quantity  \\\n",
       "17990                NaN                COP                          1   \n",
       "11431                NaN                COP                          1   \n",
       "9833                 NaN                COP                          1   \n",
       "13402                NaN                COP                          1   \n",
       "\n",
       "       object_sold_quantity object_buying_mode object_listing_type_id  \\\n",
       "17990                   500         buy_it_now           gold_special   \n",
       "11431                   500         buy_it_now           gold_special   \n",
       "9833                    200         buy_it_now               gold_pro   \n",
       "13402                   200         buy_it_now               gold_pro   \n",
       "\n",
       "               object_stop_time object_condition  \\\n",
       "17990  2040-10-15T10:02:56.000Z              new   \n",
       "11431  2040-10-15T10:02:56.000Z              new   \n",
       "9833   2041-03-30T13:04:21.000Z              new   \n",
       "13402  2041-03-30T13:04:21.000Z              new   \n",
       "\n",
       "                                        object_permalink  \\\n",
       "17990  https://articulo.mercadolibre.com.co/MCO-44335...   \n",
       "11431  https://articulo.mercadolibre.com.co/MCO-44335...   \n",
       "9833   https://articulo.mercadolibre.com.co/MCO-44544...   \n",
       "13402  https://articulo.mercadolibre.com.co/MCO-44544...   \n",
       "\n",
       "                                        object_thumbnail  \\\n",
       "17990  http://http2.mlstatic.com/D_730000-MCO43668937...   \n",
       "11431  http://http2.mlstatic.com/D_730000-MCO43668937...   \n",
       "9833   http://http2.mlstatic.com/D_668037-MCO31023669...   \n",
       "13402  http://http2.mlstatic.com/D_668037-MCO31023669...   \n",
       "\n",
       "                object_thumbnail_id  object_accepts_mercadopago  \\\n",
       "17990  730000-MCO43668937696_102020                        True   \n",
       "11431  730000-MCO43668937696_102020                        True   \n",
       "9833   668037-MCO31023669853_062019                        True   \n",
       "13402  668037-MCO31023669853_062019                        True   \n",
       "\n",
       "       object_original_price object_category_id  object_official_store_id  \\\n",
       "17990                    NaN            MCO5411                       NaN   \n",
       "11431                    NaN            MCO5411                       NaN   \n",
       "9833                     NaN          MCO166615                       NaN   \n",
       "13402                    NaN          MCO166615                       NaN   \n",
       "\n",
       "        object_domain_id object_catalog_product_id  object_use_thumbnail_id  \\\n",
       "17990  MCO-HAIR_CLIPPERS                       NaN                     True   \n",
       "11431  MCO-HAIR_CLIPPERS                       NaN                     True   \n",
       "9833      MCO-AIRBRUSHES                       NaN                     True   \n",
       "13402     MCO-AIRBRUSHES                       NaN                     True   \n",
       "\n",
       "      General_category_id       General_category_name  free_ship ship_mode  \\\n",
       "17990             MCO1246  Belleza y Cuidado Personal       True       me2   \n",
       "11431             MCO5726           Electrodomésticos       True       me2   \n",
       "9833            MCO175794                Herramientas      False       me2   \n",
       "13402           MCO172890                Construcción      False       me2   \n",
       "\n",
       "      ship_logistic_type  ship_storepickup seller_level seller_power_status  \\\n",
       "17990      cross_docking             False      5_green            platinum   \n",
       "11431      cross_docking             False      5_green            platinum   \n",
       "9833         fulfillment             False      5_green            platinum   \n",
       "13402        fulfillment             False      5_green            platinum   \n",
       "\n",
       "       sellertransactions_canceled  sellertransactions_completed  \\\n",
       "17990                          418                          9035   \n",
       "11431                          418                          9035   \n",
       "9833                           675                         26914   \n",
       "13402                          675                         26914   \n",
       "\n",
       "       sellertransactions_total sellertransactions_period  \\\n",
       "17990                      9453                  historic   \n",
       "11431                      9453                  historic   \n",
       "9833                      27589                  historic   \n",
       "13402                     27589                  historic   \n",
       "\n",
       "       sellerrating_negative  sellerrating_neutral  sellerrating_positive  \\\n",
       "17990                   0.04                  0.05                   0.91   \n",
       "11431                   0.04                  0.05                   0.91   \n",
       "9833                    0.01                  0.01                   0.98   \n",
       "13402                   0.01                  0.01                   0.98   \n",
       "\n",
       "       index  \n",
       "17990    2.0  \n",
       "11431    2.0  \n",
       "9833     2.0  \n",
       "13402    2.0  "
      ]
     },
     "execution_count": 5,
     "metadata": {},
     "output_type": "execute_result"
    }
   ],
   "source": [
    "pd.options.display.max_columns = None\n",
    "datadupli=dataset.merge(dupli, how='left', on='object_id')\n",
    "seedupli=datadupli[datadupli['index'].notnull()]\n",
    "seedupli.sort_values('object_id').head(4)\n"
   ]
  },
  {
   "cell_type": "code",
   "execution_count": 6,
   "metadata": {},
   "outputs": [
    {
     "data": {
      "text/html": [
       "<div>\n",
       "<style scoped>\n",
       "    .dataframe tbody tr th:only-of-type {\n",
       "        vertical-align: middle;\n",
       "    }\n",
       "\n",
       "    .dataframe tbody tr th {\n",
       "        vertical-align: top;\n",
       "    }\n",
       "\n",
       "    .dataframe thead th {\n",
       "        text-align: right;\n",
       "    }\n",
       "</style>\n",
       "<table border=\"1\" class=\"dataframe\">\n",
       "  <thead>\n",
       "    <tr style=\"text-align: right;\">\n",
       "      <th></th>\n",
       "      <th>General_category_name</th>\n",
       "      <th>object_id</th>\n",
       "    </tr>\n",
       "  </thead>\n",
       "  <tbody>\n",
       "    <tr>\n",
       "      <th>17990</th>\n",
       "      <td>Belleza y Cuidado Personal</td>\n",
       "      <td>MCO443357568</td>\n",
       "    </tr>\n",
       "    <tr>\n",
       "      <th>11431</th>\n",
       "      <td>Electrodomésticos</td>\n",
       "      <td>MCO443357568</td>\n",
       "    </tr>\n",
       "    <tr>\n",
       "      <th>9833</th>\n",
       "      <td>Herramientas</td>\n",
       "      <td>MCO445441242</td>\n",
       "    </tr>\n",
       "    <tr>\n",
       "      <th>13402</th>\n",
       "      <td>Construcción</td>\n",
       "      <td>MCO445441242</td>\n",
       "    </tr>\n",
       "  </tbody>\n",
       "</table>\n",
       "</div>"
      ],
      "text/plain": [
       "            General_category_name     object_id\n",
       "17990  Belleza y Cuidado Personal  MCO443357568\n",
       "11431           Electrodomésticos  MCO443357568\n",
       "9833                 Herramientas  MCO445441242\n",
       "13402                Construcción  MCO445441242"
      ]
     },
     "execution_count": 6,
     "metadata": {},
     "output_type": "execute_result"
    }
   ],
   "source": [
    "seedupli[['General_category_name','object_id']].sort_values('object_id').head(4)"
   ]
  },
  {
   "cell_type": "markdown",
   "metadata": {},
   "source": [
    " "
   ]
  },
  {
   "cell_type": "markdown",
   "metadata": {},
   "source": [
    "#### Nos damos cuenta que los duplicados son a causa de que un producto puede estar clasificado en dos o más categorías diferentes, teniendo en cuenta esto, se calculará una nueva variable que contenga el número de categorías en las que se puede encontrar el producto, y posteriormente se eliminarán los duplicados."
   ]
  },
  {
   "cell_type": "code",
   "execution_count": 266,
   "metadata": {},
   "outputs": [],
   "source": [
    "datadupli['#_classifications']=datadupli['index'].fillna(1)"
   ]
  },
  {
   "cell_type": "code",
   "execution_count": 267,
   "metadata": {},
   "outputs": [],
   "source": [
    "dataset=dataset.merge(datadupli[['object_id','#_classifications']], how='left', on='object_id')\n",
    "dataset.drop_duplicates(subset=['object_id'], keep='first', inplace=True)\n"
   ]
  },
  {
   "cell_type": "code",
   "execution_count": 268,
   "metadata": {},
   "outputs": [
    {
     "data": {
      "text/plain": [
       "0"
      ]
     },
     "execution_count": 268,
     "metadata": {},
     "output_type": "execute_result"
    }
   ],
   "source": [
    "dataset.duplicated(subset=['object_id']).sum()"
   ]
  },
  {
   "cell_type": "code",
   "execution_count": 269,
   "metadata": {},
   "outputs": [
    {
     "data": {
      "text/plain": [
       "(22304, 37)"
      ]
     },
     "execution_count": 269,
     "metadata": {},
     "output_type": "execute_result"
    }
   ],
   "source": [
    "dataset.shape"
   ]
  },
  {
   "cell_type": "markdown",
   "metadata": {},
   "source": [
    " "
   ]
  },
  {
   "cell_type": "markdown",
   "metadata": {},
   "source": [
    "## Convertir nulos en una categoría de cada variable categórica"
   ]
  },
  {
   "cell_type": "markdown",
   "metadata": {},
   "source": [
    " No se considera eliminar nulos, por tanto para las variables categóricas se convertiran los nulos en una nueva categoría: \"no_information\" pues se considera que estos nulos vistos como una categoría podrian aportar significancia al modelo, por ejemplo, un producto sin imagen puede influir en el cliente al momento de querer adquirirlo"
   ]
  },
  {
   "cell_type": "code",
   "execution_count": 270,
   "metadata": {},
   "outputs": [],
   "source": [
    "dataset.loc[dataset.object_condition.isna(),'object_condition']='no_information_condition'\n",
    "dataset.loc[dataset.object_thumbnail_id.isna(),'object_thumbnail_id']='no_information_thum_id'\n",
    "dataset.loc[dataset.object_official_store_id.isna(),'object_official_store_id']='no_information_store_id'\n",
    "dataset.loc[dataset.object_catalog_product_id.isna(),'object_catalog_product_id']='no_information_catalog_id'\n",
    "dataset.loc[dataset.ship_logistic_type.isna(),'ship_logistic_type']='no_information_logis_typ'\n",
    "dataset.loc[dataset.seller_level.isna(),'seller_level']='no_information_seller_level'\n",
    "dataset.loc[dataset.seller_power_status.isna(),'seller_power_status']='no_information_sell_pw_sta'\n",
    "dataset.loc[dataset.object_currency_id.isna(),'object_currency_id']='no_information_currency'"
   ]
  },
  {
   "cell_type": "markdown",
   "metadata": {},
   "source": [
    " "
   ]
  },
  {
   "cell_type": "markdown",
   "metadata": {},
   "source": [
    "## Imputar valores faltantes de la variable precio "
   ]
  },
  {
   "cell_type": "markdown",
   "metadata": {},
   "source": [
    "Se imputaran los valores faltantes del precio con la mediana del precio de cada subcategoría de productos."
   ]
  },
  {
   "cell_type": "code",
   "execution_count": 271,
   "metadata": {},
   "outputs": [
    {
     "data": {
      "text/html": [
       "<div>\n",
       "<style scoped>\n",
       "    .dataframe tbody tr th:only-of-type {\n",
       "        vertical-align: middle;\n",
       "    }\n",
       "\n",
       "    .dataframe tbody tr th {\n",
       "        vertical-align: top;\n",
       "    }\n",
       "\n",
       "    .dataframe thead th {\n",
       "        text-align: right;\n",
       "    }\n",
       "</style>\n",
       "<table border=\"1\" class=\"dataframe\">\n",
       "  <thead>\n",
       "    <tr style=\"text-align: right;\">\n",
       "      <th></th>\n",
       "      <th>object_category_id</th>\n",
       "      <th>object_price</th>\n",
       "    </tr>\n",
       "  </thead>\n",
       "  <tbody>\n",
       "    <tr>\n",
       "      <th>0</th>\n",
       "      <td>MCO1014</td>\n",
       "      <td>533700.000000</td>\n",
       "    </tr>\n",
       "    <tr>\n",
       "      <th>1</th>\n",
       "      <td>MCO1015</td>\n",
       "      <td>697200.000000</td>\n",
       "    </tr>\n",
       "    <tr>\n",
       "      <th>2</th>\n",
       "      <td>MCO10203</td>\n",
       "      <td>311666.666667</td>\n",
       "    </tr>\n",
       "    <tr>\n",
       "      <th>3</th>\n",
       "      <td>MCO10209</td>\n",
       "      <td>32939.266667</td>\n",
       "    </tr>\n",
       "    <tr>\n",
       "      <th>4</th>\n",
       "      <td>MCO10271</td>\n",
       "      <td>36600.000000</td>\n",
       "    </tr>\n",
       "  </tbody>\n",
       "</table>\n",
       "</div>"
      ],
      "text/plain": [
       "  object_category_id   object_price\n",
       "0            MCO1014  533700.000000\n",
       "1            MCO1015  697200.000000\n",
       "2           MCO10203  311666.666667\n",
       "3           MCO10209   32939.266667\n",
       "4           MCO10271   36600.000000"
      ]
     },
     "execution_count": 271,
     "metadata": {},
     "output_type": "execute_result"
    }
   ],
   "source": [
    "datasetgroup=dataset.groupby('object_category_id').object_price.mean().reset_index()\n",
    "datasetgroup.head()"
   ]
  },
  {
   "cell_type": "code",
   "execution_count": 272,
   "metadata": {},
   "outputs": [
    {
     "data": {
      "text/html": [
       "<div>\n",
       "<style scoped>\n",
       "    .dataframe tbody tr th:only-of-type {\n",
       "        vertical-align: middle;\n",
       "    }\n",
       "\n",
       "    .dataframe tbody tr th {\n",
       "        vertical-align: top;\n",
       "    }\n",
       "\n",
       "    .dataframe thead th {\n",
       "        text-align: right;\n",
       "    }\n",
       "</style>\n",
       "<table border=\"1\" class=\"dataframe\">\n",
       "  <thead>\n",
       "    <tr style=\"text-align: right;\">\n",
       "      <th></th>\n",
       "      <th>object_id</th>\n",
       "      <th>object_site_id</th>\n",
       "      <th>object_title</th>\n",
       "      <th>object_price_x</th>\n",
       "      <th>object_currency_id</th>\n",
       "      <th>object_available_quantity</th>\n",
       "      <th>object_sold_quantity</th>\n",
       "      <th>object_buying_mode</th>\n",
       "      <th>object_listing_type_id</th>\n",
       "      <th>object_stop_time</th>\n",
       "      <th>object_condition</th>\n",
       "      <th>object_permalink</th>\n",
       "      <th>object_thumbnail</th>\n",
       "      <th>object_thumbnail_id</th>\n",
       "      <th>object_accepts_mercadopago</th>\n",
       "      <th>object_original_price</th>\n",
       "      <th>object_category_id</th>\n",
       "      <th>object_official_store_id</th>\n",
       "      <th>object_domain_id</th>\n",
       "      <th>object_catalog_product_id</th>\n",
       "      <th>object_use_thumbnail_id</th>\n",
       "      <th>General_category_id</th>\n",
       "      <th>General_category_name</th>\n",
       "      <th>free_ship</th>\n",
       "      <th>ship_mode</th>\n",
       "      <th>ship_logistic_type</th>\n",
       "      <th>ship_storepickup</th>\n",
       "      <th>seller_level</th>\n",
       "      <th>seller_power_status</th>\n",
       "      <th>sellertransactions_canceled</th>\n",
       "      <th>sellertransactions_completed</th>\n",
       "      <th>sellertransactions_total</th>\n",
       "      <th>sellertransactions_period</th>\n",
       "      <th>sellerrating_negative</th>\n",
       "      <th>sellerrating_neutral</th>\n",
       "      <th>sellerrating_positive</th>\n",
       "      <th>#_classifications</th>\n",
       "      <th>object_price_y</th>\n",
       "    </tr>\n",
       "  </thead>\n",
       "  <tbody>\n",
       "    <tr>\n",
       "      <th>482</th>\n",
       "      <td>MCO589643727</td>\n",
       "      <td>MCO</td>\n",
       "      <td>Soplete Cohiba Encendedor Recargable Premiun  ...</td>\n",
       "      <td>184900.0</td>\n",
       "      <td>COP</td>\n",
       "      <td>1</td>\n",
       "      <td>5</td>\n",
       "      <td>buy_it_now</td>\n",
       "      <td>gold_special</td>\n",
       "      <td>2040-10-11T04:00:00.000Z</td>\n",
       "      <td>new</td>\n",
       "      <td>https://articulo.mercadolibre.com.co/MCO-58964...</td>\n",
       "      <td>http://http2.mlstatic.com/D_893431-MCO45108181...</td>\n",
       "      <td>893431-MCO45108181219_032021</td>\n",
       "      <td>True</td>\n",
       "      <td>NaN</td>\n",
       "      <td>MCO172908</td>\n",
       "      <td>no_information_store_id</td>\n",
       "      <td>MCO-LIGHTERS</td>\n",
       "      <td>no_information_catalog_id</td>\n",
       "      <td>True</td>\n",
       "      <td>MCO1953</td>\n",
       "      <td>Otras categorías</td>\n",
       "      <td>True</td>\n",
       "      <td>not_specified</td>\n",
       "      <td>not_specified</td>\n",
       "      <td>False</td>\n",
       "      <td>5_green</td>\n",
       "      <td>silver</td>\n",
       "      <td>1</td>\n",
       "      <td>140</td>\n",
       "      <td>141</td>\n",
       "      <td>historic</td>\n",
       "      <td>0.0</td>\n",
       "      <td>0.04</td>\n",
       "      <td>0.96</td>\n",
       "      <td>1.0</td>\n",
       "      <td>26388.560976</td>\n",
       "    </tr>\n",
       "  </tbody>\n",
       "</table>\n",
       "</div>"
      ],
      "text/plain": [
       "        object_id object_site_id  \\\n",
       "482  MCO589643727            MCO   \n",
       "\n",
       "                                          object_title  object_price_x  \\\n",
       "482  Soplete Cohiba Encendedor Recargable Premiun  ...        184900.0   \n",
       "\n",
       "    object_currency_id  object_available_quantity  object_sold_quantity  \\\n",
       "482                COP                          1                     5   \n",
       "\n",
       "    object_buying_mode object_listing_type_id          object_stop_time  \\\n",
       "482         buy_it_now           gold_special  2040-10-11T04:00:00.000Z   \n",
       "\n",
       "    object_condition                                   object_permalink  \\\n",
       "482              new  https://articulo.mercadolibre.com.co/MCO-58964...   \n",
       "\n",
       "                                      object_thumbnail  \\\n",
       "482  http://http2.mlstatic.com/D_893431-MCO45108181...   \n",
       "\n",
       "              object_thumbnail_id  object_accepts_mercadopago  \\\n",
       "482  893431-MCO45108181219_032021                        True   \n",
       "\n",
       "     object_original_price object_category_id object_official_store_id  \\\n",
       "482                    NaN          MCO172908  no_information_store_id   \n",
       "\n",
       "    object_domain_id  object_catalog_product_id  object_use_thumbnail_id  \\\n",
       "482     MCO-LIGHTERS  no_information_catalog_id                     True   \n",
       "\n",
       "    General_category_id General_category_name  free_ship      ship_mode  \\\n",
       "482             MCO1953      Otras categorías       True  not_specified   \n",
       "\n",
       "    ship_logistic_type  ship_storepickup seller_level seller_power_status  \\\n",
       "482      not_specified             False      5_green              silver   \n",
       "\n",
       "     sellertransactions_canceled  sellertransactions_completed  \\\n",
       "482                            1                           140   \n",
       "\n",
       "     sellertransactions_total sellertransactions_period  \\\n",
       "482                       141                  historic   \n",
       "\n",
       "     sellerrating_negative  sellerrating_neutral  sellerrating_positive  \\\n",
       "482                    0.0                  0.04                   0.96   \n",
       "\n",
       "     #_classifications  object_price_y  \n",
       "482                1.0    26388.560976  "
      ]
     },
     "execution_count": 272,
     "metadata": {},
     "output_type": "execute_result"
    }
   ],
   "source": [
    "\n",
    "datasetv2 = dataset.merge(datasetgroup, left_index=True, on=\"object_category_id\", how='left')\n",
    "datasetv2.head(1)"
   ]
  },
  {
   "cell_type": "code",
   "execution_count": 273,
   "metadata": {},
   "outputs": [],
   "source": [
    "\n",
    "datasetv2['object_price']=np.where(datasetv2.object_price_x.isnull(),\n",
    "                                   datasetv2.object_price_y,\n",
    "                                   datasetv2.object_price_x       \n",
    "                                         )\n",
    "\n"
   ]
  },
  {
   "cell_type": "code",
   "execution_count": 274,
   "metadata": {},
   "outputs": [],
   "source": [
    "datasetv2=datasetv2.drop(['object_price_x','object_price_y'], axis=1)"
   ]
  },
  {
   "cell_type": "markdown",
   "metadata": {},
   "source": [
    "Aún seguirán quedando valores faltantes dado que algunas sub categorías tienen media NaN, por tanto ahora se imputan estos valores con la media de la categoría general:"
   ]
  },
  {
   "cell_type": "code",
   "execution_count": 275,
   "metadata": {},
   "outputs": [
    {
     "data": {
      "text/html": [
       "<div>\n",
       "<style scoped>\n",
       "    .dataframe tbody tr th:only-of-type {\n",
       "        vertical-align: middle;\n",
       "    }\n",
       "\n",
       "    .dataframe tbody tr th {\n",
       "        vertical-align: top;\n",
       "    }\n",
       "\n",
       "    .dataframe thead th {\n",
       "        text-align: right;\n",
       "    }\n",
       "</style>\n",
       "<table border=\"1\" class=\"dataframe\">\n",
       "  <thead>\n",
       "    <tr style=\"text-align: right;\">\n",
       "      <th></th>\n",
       "      <th>General_category_id</th>\n",
       "      <th>object_price</th>\n",
       "    </tr>\n",
       "  </thead>\n",
       "  <tbody>\n",
       "    <tr>\n",
       "      <th>0</th>\n",
       "      <td>MCO1000</td>\n",
       "      <td>238522.146141</td>\n",
       "    </tr>\n",
       "    <tr>\n",
       "      <th>1</th>\n",
       "      <td>MCO1039</td>\n",
       "      <td>570255.573508</td>\n",
       "    </tr>\n",
       "    <tr>\n",
       "      <th>2</th>\n",
       "      <td>MCO1051</td>\n",
       "      <td>422368.026187</td>\n",
       "    </tr>\n",
       "    <tr>\n",
       "      <th>3</th>\n",
       "      <td>MCO1071</td>\n",
       "      <td>182770.101333</td>\n",
       "    </tr>\n",
       "    <tr>\n",
       "      <th>4</th>\n",
       "      <td>MCO1132</td>\n",
       "      <td>87495.922043</td>\n",
       "    </tr>\n",
       "  </tbody>\n",
       "</table>\n",
       "</div>"
      ],
      "text/plain": [
       "  General_category_id   object_price\n",
       "0             MCO1000  238522.146141\n",
       "1             MCO1039  570255.573508\n",
       "2             MCO1051  422368.026187\n",
       "3             MCO1071  182770.101333\n",
       "4             MCO1132   87495.922043"
      ]
     },
     "execution_count": 275,
     "metadata": {},
     "output_type": "execute_result"
    }
   ],
   "source": [
    "datasetgroup2=datasetv2.groupby('General_category_id').object_price.mean().reset_index()\n",
    "datasetgroup2.head()"
   ]
  },
  {
   "cell_type": "code",
   "execution_count": 276,
   "metadata": {},
   "outputs": [
    {
     "data": {
      "text/html": [
       "<div>\n",
       "<style scoped>\n",
       "    .dataframe tbody tr th:only-of-type {\n",
       "        vertical-align: middle;\n",
       "    }\n",
       "\n",
       "    .dataframe tbody tr th {\n",
       "        vertical-align: top;\n",
       "    }\n",
       "\n",
       "    .dataframe thead th {\n",
       "        text-align: right;\n",
       "    }\n",
       "</style>\n",
       "<table border=\"1\" class=\"dataframe\">\n",
       "  <thead>\n",
       "    <tr style=\"text-align: right;\">\n",
       "      <th></th>\n",
       "      <th>object_id</th>\n",
       "      <th>object_site_id</th>\n",
       "      <th>object_title</th>\n",
       "      <th>object_currency_id</th>\n",
       "      <th>object_available_quantity</th>\n",
       "      <th>object_sold_quantity</th>\n",
       "      <th>object_buying_mode</th>\n",
       "      <th>object_listing_type_id</th>\n",
       "      <th>object_stop_time</th>\n",
       "      <th>object_condition</th>\n",
       "      <th>object_permalink</th>\n",
       "      <th>object_thumbnail</th>\n",
       "      <th>object_thumbnail_id</th>\n",
       "      <th>object_accepts_mercadopago</th>\n",
       "      <th>object_original_price</th>\n",
       "      <th>object_category_id</th>\n",
       "      <th>object_official_store_id</th>\n",
       "      <th>object_domain_id</th>\n",
       "      <th>object_catalog_product_id</th>\n",
       "      <th>object_use_thumbnail_id</th>\n",
       "      <th>General_category_id</th>\n",
       "      <th>General_category_name</th>\n",
       "      <th>free_ship</th>\n",
       "      <th>ship_mode</th>\n",
       "      <th>ship_logistic_type</th>\n",
       "      <th>ship_storepickup</th>\n",
       "      <th>seller_level</th>\n",
       "      <th>seller_power_status</th>\n",
       "      <th>sellertransactions_canceled</th>\n",
       "      <th>sellertransactions_completed</th>\n",
       "      <th>sellertransactions_total</th>\n",
       "      <th>sellertransactions_period</th>\n",
       "      <th>sellerrating_negative</th>\n",
       "      <th>sellerrating_neutral</th>\n",
       "      <th>sellerrating_positive</th>\n",
       "      <th>#_classifications</th>\n",
       "      <th>object_price_x</th>\n",
       "      <th>object_price_y</th>\n",
       "    </tr>\n",
       "  </thead>\n",
       "  <tbody>\n",
       "    <tr>\n",
       "      <th>26</th>\n",
       "      <td>MCO589643727</td>\n",
       "      <td>MCO</td>\n",
       "      <td>Soplete Cohiba Encendedor Recargable Premiun  ...</td>\n",
       "      <td>COP</td>\n",
       "      <td>1</td>\n",
       "      <td>5</td>\n",
       "      <td>buy_it_now</td>\n",
       "      <td>gold_special</td>\n",
       "      <td>2040-10-11T04:00:00.000Z</td>\n",
       "      <td>new</td>\n",
       "      <td>https://articulo.mercadolibre.com.co/MCO-58964...</td>\n",
       "      <td>http://http2.mlstatic.com/D_893431-MCO45108181...</td>\n",
       "      <td>893431-MCO45108181219_032021</td>\n",
       "      <td>True</td>\n",
       "      <td>NaN</td>\n",
       "      <td>MCO172908</td>\n",
       "      <td>no_information_store_id</td>\n",
       "      <td>MCO-LIGHTERS</td>\n",
       "      <td>no_information_catalog_id</td>\n",
       "      <td>True</td>\n",
       "      <td>MCO1953</td>\n",
       "      <td>Otras categorías</td>\n",
       "      <td>True</td>\n",
       "      <td>not_specified</td>\n",
       "      <td>not_specified</td>\n",
       "      <td>False</td>\n",
       "      <td>5_green</td>\n",
       "      <td>silver</td>\n",
       "      <td>1</td>\n",
       "      <td>140</td>\n",
       "      <td>141</td>\n",
       "      <td>historic</td>\n",
       "      <td>0.0</td>\n",
       "      <td>0.04</td>\n",
       "      <td>0.96</td>\n",
       "      <td>1.0</td>\n",
       "      <td>184900.0</td>\n",
       "      <td>61973.896</td>\n",
       "    </tr>\n",
       "  </tbody>\n",
       "</table>\n",
       "</div>"
      ],
      "text/plain": [
       "       object_id object_site_id  \\\n",
       "26  MCO589643727            MCO   \n",
       "\n",
       "                                         object_title object_currency_id  \\\n",
       "26  Soplete Cohiba Encendedor Recargable Premiun  ...                COP   \n",
       "\n",
       "    object_available_quantity  object_sold_quantity object_buying_mode  \\\n",
       "26                          1                     5         buy_it_now   \n",
       "\n",
       "   object_listing_type_id          object_stop_time object_condition  \\\n",
       "26           gold_special  2040-10-11T04:00:00.000Z              new   \n",
       "\n",
       "                                     object_permalink  \\\n",
       "26  https://articulo.mercadolibre.com.co/MCO-58964...   \n",
       "\n",
       "                                     object_thumbnail  \\\n",
       "26  http://http2.mlstatic.com/D_893431-MCO45108181...   \n",
       "\n",
       "             object_thumbnail_id  object_accepts_mercadopago  \\\n",
       "26  893431-MCO45108181219_032021                        True   \n",
       "\n",
       "    object_original_price object_category_id object_official_store_id  \\\n",
       "26                    NaN          MCO172908  no_information_store_id   \n",
       "\n",
       "   object_domain_id  object_catalog_product_id  object_use_thumbnail_id  \\\n",
       "26     MCO-LIGHTERS  no_information_catalog_id                     True   \n",
       "\n",
       "   General_category_id General_category_name  free_ship      ship_mode  \\\n",
       "26             MCO1953      Otras categorías       True  not_specified   \n",
       "\n",
       "   ship_logistic_type  ship_storepickup seller_level seller_power_status  \\\n",
       "26      not_specified             False      5_green              silver   \n",
       "\n",
       "    sellertransactions_canceled  sellertransactions_completed  \\\n",
       "26                            1                           140   \n",
       "\n",
       "    sellertransactions_total sellertransactions_period  sellerrating_negative  \\\n",
       "26                       141                  historic                    0.0   \n",
       "\n",
       "    sellerrating_neutral  sellerrating_positive  #_classifications  \\\n",
       "26                  0.04                   0.96                1.0   \n",
       "\n",
       "    object_price_x  object_price_y  \n",
       "26        184900.0       61973.896  "
      ]
     },
     "execution_count": 276,
     "metadata": {},
     "output_type": "execute_result"
    }
   ],
   "source": [
    "datasetv3 = datasetv2.merge(datasetgroup2, left_index=True, on=\"General_category_id\", how='left')\n",
    "datasetv3.head(1)"
   ]
  },
  {
   "cell_type": "code",
   "execution_count": 277,
   "metadata": {},
   "outputs": [],
   "source": [
    "datasetv3['object_price']=np.where(datasetv3.object_price_x.isnull(),\n",
    "                                   datasetv3.object_price_y,\n",
    "                                   datasetv3.object_price_x       \n",
    "                                         )"
   ]
  },
  {
   "cell_type": "code",
   "execution_count": 278,
   "metadata": {},
   "outputs": [],
   "source": [
    "datasetv3=datasetv3.drop(['object_price_x','object_price_y'], axis=1)"
   ]
  },
  {
   "cell_type": "markdown",
   "metadata": {},
   "source": [
    " "
   ]
  },
  {
   "cell_type": "markdown",
   "metadata": {},
   "source": [
    "## Crear variable de % de descuento y variable de tasa aviable vs sold"
   ]
  },
  {
   "cell_type": "markdown",
   "metadata": {},
   "source": [
    "Se crea una columna con el % de descuento de los productos en promoción, para esto primero se creará una variable con el valor del descuento:"
   ]
  },
  {
   "cell_type": "code",
   "execution_count": 279,
   "metadata": {},
   "outputs": [],
   "source": [
    "datasetv3['object_original_price'] = datasetv3['object_original_price'].fillna(0)\n",
    "datasetv3['discount_value']=(datasetv3['object_original_price'] - datasetv3['object_price']).apply(lambda x:0 if x<0 else x)"
   ]
  },
  {
   "cell_type": "code",
   "execution_count": 280,
   "metadata": {},
   "outputs": [],
   "source": [
    "datasetv3['real_price']= datasetv3['object_price'] + datasetv3['discount_value']\n",
    "datasetv3['pct_discount']=datasetv3['discount_value']/ datasetv3['real_price']"
   ]
  },
  {
   "cell_type": "markdown",
   "metadata": {},
   "source": [
    " "
   ]
  },
  {
   "cell_type": "markdown",
   "metadata": {},
   "source": [
    "Ahora se cálcula una variable tasa en donde se relaciona la cantidad disponible versus lo vendido (a la fecha)"
   ]
  },
  {
   "cell_type": "code",
   "execution_count": 281,
   "metadata": {},
   "outputs": [],
   "source": [
    "datasetv3['AvailableVSsold']= datasetv3['object_available_quantity']/ datasetv3['object_sold_quantity']\n",
    "datasetv3['TAvailableVSsold']= np.where(np.isinf(datasetv3.AvailableVSsold),\n",
    "                                   datasetv3.object_available_quantity,\n",
    "                                   datasetv3.AvailableVSsold      \n",
    "                                         )\n",
    "datasetv3=datasetv3.drop(['AvailableVSsold'], axis=1)"
   ]
  },
  {
   "cell_type": "code",
   "execution_count": 282,
   "metadata": {},
   "outputs": [
    {
     "data": {
      "text/html": [
       "<div>\n",
       "<style scoped>\n",
       "    .dataframe tbody tr th:only-of-type {\n",
       "        vertical-align: middle;\n",
       "    }\n",
       "\n",
       "    .dataframe tbody tr th {\n",
       "        vertical-align: top;\n",
       "    }\n",
       "\n",
       "    .dataframe thead th {\n",
       "        text-align: right;\n",
       "    }\n",
       "</style>\n",
       "<table border=\"1\" class=\"dataframe\">\n",
       "  <thead>\n",
       "    <tr style=\"text-align: right;\">\n",
       "      <th></th>\n",
       "      <th>object_id</th>\n",
       "      <th>object_site_id</th>\n",
       "      <th>object_title</th>\n",
       "      <th>object_currency_id</th>\n",
       "      <th>object_available_quantity</th>\n",
       "      <th>object_sold_quantity</th>\n",
       "      <th>object_buying_mode</th>\n",
       "      <th>object_listing_type_id</th>\n",
       "      <th>object_stop_time</th>\n",
       "      <th>object_condition</th>\n",
       "      <th>object_permalink</th>\n",
       "      <th>object_thumbnail</th>\n",
       "      <th>object_thumbnail_id</th>\n",
       "      <th>object_accepts_mercadopago</th>\n",
       "      <th>object_original_price</th>\n",
       "      <th>object_category_id</th>\n",
       "      <th>object_official_store_id</th>\n",
       "      <th>object_domain_id</th>\n",
       "      <th>object_catalog_product_id</th>\n",
       "      <th>object_use_thumbnail_id</th>\n",
       "      <th>General_category_id</th>\n",
       "      <th>General_category_name</th>\n",
       "      <th>free_ship</th>\n",
       "      <th>ship_mode</th>\n",
       "      <th>ship_logistic_type</th>\n",
       "      <th>ship_storepickup</th>\n",
       "      <th>seller_level</th>\n",
       "      <th>seller_power_status</th>\n",
       "      <th>sellertransactions_canceled</th>\n",
       "      <th>sellertransactions_completed</th>\n",
       "      <th>sellertransactions_total</th>\n",
       "      <th>sellertransactions_period</th>\n",
       "      <th>sellerrating_negative</th>\n",
       "      <th>sellerrating_neutral</th>\n",
       "      <th>sellerrating_positive</th>\n",
       "      <th>#_classifications</th>\n",
       "      <th>object_price</th>\n",
       "      <th>discount_value</th>\n",
       "      <th>real_price</th>\n",
       "      <th>pct_discount</th>\n",
       "      <th>TAvailableVSsold</th>\n",
       "    </tr>\n",
       "  </thead>\n",
       "  <tbody>\n",
       "    <tr>\n",
       "      <th>29</th>\n",
       "      <td>MCO613944628</td>\n",
       "      <td>MCO</td>\n",
       "      <td>Threeface Uniforme Completo Verde Made In Italy</td>\n",
       "      <td>COP</td>\n",
       "      <td>1</td>\n",
       "      <td>0</td>\n",
       "      <td>buy_it_now</td>\n",
       "      <td>gold_special</td>\n",
       "      <td>2041-03-24T04:00:00.000Z</td>\n",
       "      <td>new</td>\n",
       "      <td>https://articulo.mercadolibre.com.co/MCO-61394...</td>\n",
       "      <td>http://http2.mlstatic.com/D_983617-MCO45371307...</td>\n",
       "      <td>983617-MCO45371307013_032021</td>\n",
       "      <td>True</td>\n",
       "      <td>0.0</td>\n",
       "      <td>MCO118006</td>\n",
       "      <td>no_information_store_id</td>\n",
       "      <td>MCO-CONCERT_TICKETS</td>\n",
       "      <td>no_information_catalog_id</td>\n",
       "      <td>True</td>\n",
       "      <td>MCO40433</td>\n",
       "      <td>Boletas para Espectáculos</td>\n",
       "      <td>True</td>\n",
       "      <td>me2</td>\n",
       "      <td>drop_off</td>\n",
       "      <td>False</td>\n",
       "      <td>no_information_seller_level</td>\n",
       "      <td>no_information_sell_pw_sta</td>\n",
       "      <td>0</td>\n",
       "      <td>0</td>\n",
       "      <td>0</td>\n",
       "      <td>historic</td>\n",
       "      <td>0.0</td>\n",
       "      <td>0.0</td>\n",
       "      <td>0.0</td>\n",
       "      <td>1.0</td>\n",
       "      <td>380000.0</td>\n",
       "      <td>0.0</td>\n",
       "      <td>380000.0</td>\n",
       "      <td>0.0</td>\n",
       "      <td>1.0</td>\n",
       "    </tr>\n",
       "    <tr>\n",
       "      <th>22</th>\n",
       "      <td>MCO622077282</td>\n",
       "      <td>MCO</td>\n",
       "      <td>Citroën C3 1.6l Vti 120 Hp Exclusive</td>\n",
       "      <td>COP</td>\n",
       "      <td>1</td>\n",
       "      <td>0</td>\n",
       "      <td>classified</td>\n",
       "      <td>gold_premium</td>\n",
       "      <td>2021-06-18T01:15:40.000Z</td>\n",
       "      <td>used</td>\n",
       "      <td>https://carro.mercadolibre.com.co/MCO-62207728...</td>\n",
       "      <td>http://http2.mlstatic.com/D_911485-MCO46144409...</td>\n",
       "      <td>911485-MCO46144409206_052021</td>\n",
       "      <td>False</td>\n",
       "      <td>0.0</td>\n",
       "      <td>MCO1744</td>\n",
       "      <td>no_information_store_id</td>\n",
       "      <td>MCO-CARS_AND_VANS</td>\n",
       "      <td>MCO17047682</td>\n",
       "      <td>True</td>\n",
       "      <td>MCO1743</td>\n",
       "      <td>Carros, Motos y Otros</td>\n",
       "      <td>False</td>\n",
       "      <td>not_specified</td>\n",
       "      <td>no_information_logis_typ</td>\n",
       "      <td>False</td>\n",
       "      <td>no_information_seller_level</td>\n",
       "      <td>no_information_sell_pw_sta</td>\n",
       "      <td>0</td>\n",
       "      <td>0</td>\n",
       "      <td>0</td>\n",
       "      <td>historic</td>\n",
       "      <td>0.0</td>\n",
       "      <td>0.0</td>\n",
       "      <td>0.0</td>\n",
       "      <td>1.0</td>\n",
       "      <td>42900000.0</td>\n",
       "      <td>0.0</td>\n",
       "      <td>42900000.0</td>\n",
       "      <td>0.0</td>\n",
       "      <td>1.0</td>\n",
       "    </tr>\n",
       "  </tbody>\n",
       "</table>\n",
       "</div>"
      ],
      "text/plain": [
       "       object_id object_site_id  \\\n",
       "29  MCO613944628            MCO   \n",
       "22  MCO622077282            MCO   \n",
       "\n",
       "                                       object_title object_currency_id  \\\n",
       "29  Threeface Uniforme Completo Verde Made In Italy                COP   \n",
       "22             Citroën C3 1.6l Vti 120 Hp Exclusive                COP   \n",
       "\n",
       "    object_available_quantity  object_sold_quantity object_buying_mode  \\\n",
       "29                          1                     0         buy_it_now   \n",
       "22                          1                     0         classified   \n",
       "\n",
       "   object_listing_type_id          object_stop_time object_condition  \\\n",
       "29           gold_special  2041-03-24T04:00:00.000Z              new   \n",
       "22           gold_premium  2021-06-18T01:15:40.000Z             used   \n",
       "\n",
       "                                     object_permalink  \\\n",
       "29  https://articulo.mercadolibre.com.co/MCO-61394...   \n",
       "22  https://carro.mercadolibre.com.co/MCO-62207728...   \n",
       "\n",
       "                                     object_thumbnail  \\\n",
       "29  http://http2.mlstatic.com/D_983617-MCO45371307...   \n",
       "22  http://http2.mlstatic.com/D_911485-MCO46144409...   \n",
       "\n",
       "             object_thumbnail_id  object_accepts_mercadopago  \\\n",
       "29  983617-MCO45371307013_032021                        True   \n",
       "22  911485-MCO46144409206_052021                       False   \n",
       "\n",
       "    object_original_price object_category_id object_official_store_id  \\\n",
       "29                    0.0          MCO118006  no_information_store_id   \n",
       "22                    0.0            MCO1744  no_information_store_id   \n",
       "\n",
       "       object_domain_id  object_catalog_product_id  object_use_thumbnail_id  \\\n",
       "29  MCO-CONCERT_TICKETS  no_information_catalog_id                     True   \n",
       "22    MCO-CARS_AND_VANS                MCO17047682                     True   \n",
       "\n",
       "   General_category_id      General_category_name  free_ship      ship_mode  \\\n",
       "29            MCO40433  Boletas para Espectáculos       True            me2   \n",
       "22             MCO1743      Carros, Motos y Otros      False  not_specified   \n",
       "\n",
       "          ship_logistic_type  ship_storepickup                 seller_level  \\\n",
       "29                  drop_off             False  no_information_seller_level   \n",
       "22  no_information_logis_typ             False  no_information_seller_level   \n",
       "\n",
       "           seller_power_status  sellertransactions_canceled  \\\n",
       "29  no_information_sell_pw_sta                            0   \n",
       "22  no_information_sell_pw_sta                            0   \n",
       "\n",
       "    sellertransactions_completed  sellertransactions_total  \\\n",
       "29                             0                         0   \n",
       "22                             0                         0   \n",
       "\n",
       "   sellertransactions_period  sellerrating_negative  sellerrating_neutral  \\\n",
       "29                  historic                    0.0                   0.0   \n",
       "22                  historic                    0.0                   0.0   \n",
       "\n",
       "    sellerrating_positive  #_classifications  object_price  discount_value  \\\n",
       "29                    0.0                1.0      380000.0             0.0   \n",
       "22                    0.0                1.0    42900000.0             0.0   \n",
       "\n",
       "    real_price  pct_discount  TAvailableVSsold  \n",
       "29    380000.0           0.0               1.0  \n",
       "22  42900000.0           0.0               1.0  "
      ]
     },
     "execution_count": 282,
     "metadata": {},
     "output_type": "execute_result"
    }
   ],
   "source": [
    "datasetv3.sort_values('object_sold_quantity').head(2)"
   ]
  },
  {
   "cell_type": "markdown",
   "metadata": {},
   "source": [
    "Esta tasa se entenderá como sigue: \n",
    "1. Mientras el valor de la tasa sea cercano a 1, significa que, a la fecha, se tiene en inventario la misma cantidad de productos que se han vendido. \n",
    "2. Si el valor de la tasa es cercano a 0, significa que, a la fecha, hay muy pocos productos disponibles y la tendencia del producto es venderse en mayor cantidad a lo que hay en inventario (podría pensarse en una alta rotación del producto llegando casi a la indisponibilidad de este). \n",
    "3. Mientas el valor de la tasa sea cada vez mayor a 1, se entenderá que en inventario hay más productos disponbles que los que se han vendido (mientras más grande sea la tasa, podría pensarse en una baja rotación del producto).  "
   ]
  },
  {
   "cell_type": "markdown",
   "metadata": {},
   "source": [
    " "
   ]
  },
  {
   "cell_type": "markdown",
   "metadata": {},
   "source": [
    "## Variables dummies de interes"
   ]
  },
  {
   "cell_type": "markdown",
   "metadata": {},
   "source": [
    "Se cálculan variables dummies que pueden ser útiles en el análisis:"
   ]
  },
  {
   "cell_type": "code",
   "execution_count": 283,
   "metadata": {},
   "outputs": [],
   "source": [
    "datasetv3['thumbnail_id_binary']= datasetv3['object_thumbnail_id'].apply(lambda x: 1 if x== 'no_information' else 0)\n",
    "datasetv3['official_store_id_binary']= datasetv3['object_official_store_id'].apply(lambda x: 1 if x== 'no_information' else 0)\n",
    "datasetv3['catalog_product_id']= datasetv3['object_catalog_product_id'].apply(lambda x: 1 if x== 'no_information' else 0)"
   ]
  },
  {
   "cell_type": "markdown",
   "metadata": {},
   "source": [
    " "
   ]
  },
  {
   "cell_type": "markdown",
   "metadata": {},
   "source": [
    "# Análisis de la data por categorías"
   ]
  },
  {
   "cell_type": "markdown",
   "metadata": {},
   "source": [
    "Se quiere ver cual es la media y como se distribuyen los valores de las distintas variables por categoría"
   ]
  },
  {
   "cell_type": "markdown",
   "metadata": {},
   "source": [
    "### Precio:"
   ]
  },
  {
   "cell_type": "code",
   "execution_count": 284,
   "metadata": {},
   "outputs": [
    {
     "data": {
      "image/png": "[encoded data removed]",
      "text/plain": [
       "<Figure size 720x720 with 1 Axes>"
      ]
     },
     "metadata": {
      "needs_background": "light"
     },
     "output_type": "display_data"
    }
   ],
   "source": [
    "sns.boxplot(x='General_category_name', y = 'object_price', data = datasetv3)\n",
    "\n",
    "plt.title(\"category vs price\", fontsize=20, verticalalignment='bottom')\n",
    "plt.xticks(rotation=90)\n",
    "plt.rcParams['figure.figsize']=(10,10)"
   ]
  },
  {
   "cell_type": "markdown",
   "metadata": {},
   "source": [
    " "
   ]
  },
  {
   "cell_type": "markdown",
   "metadata": {},
   "source": [
    "Una primera conclusión es que la mediana del precio de los productos en la categoría inmuebles, dista considerablemente de las demás categorías, siendo inmuebles la categoría de mayores precios, y a esta le sigue la categoría Carros, Motos y Otros. Adicional, la categoría Servicios tiene un valor atípico. Ahora veamos de nuevo esto pero sin las categorías Inmuebles y Carros:"
   ]
  },
  {
   "cell_type": "markdown",
   "metadata": {},
   "source": [
    " "
   ]
  },
  {
   "cell_type": "code",
   "execution_count": 209,
   "metadata": {},
   "outputs": [
    {
     "data": {
      "image/png": "[encoded data removed]",
      "text/plain": [
       "<Figure size 720x720 with 1 Axes>"
      ]
     },
     "metadata": {
      "needs_background": "light"
     },
     "output_type": "display_data"
    }
   ],
   "source": [
    "ax=sns.boxplot(x='General_category_name', y = 'object_price', \n",
    "            data = datasetv3[~datasetv3.General_category_name.isin(['Inmuebles','Carros, Motos y Otros'])],showfliers=False)\n",
    "\n",
    "plt.title(\"category vs price\", fontsize=20, verticalalignment='bottom')\n",
    "\n",
    "\n",
    "plt.xticks(rotation=90)\n",
    "plt.rcParams['figure.figsize']=(10,10)\n",
    "\n"
   ]
  },
  {
   "cell_type": "markdown",
   "metadata": {},
   "source": [
    "La categoría servicios tiene más productos con precios más altos que las demás categorías, le siguen laa categoría\n",
    "Consolas y Videojuegos, Celulares y Telefonos, Computación y Agro. Por tanto un top de categorías más caras respecto a su distribución y media es: \n",
    "1. Inmuebles\n",
    "2. Carros, Motos y Otros\n",
    "3. Servicios\n",
    "4. Consolas y Videojuegos\n",
    "5. Celulares y teléfonos\n",
    "6. Computación\n",
    "7. Agro"
   ]
  },
  {
   "cell_type": "code",
   "execution_count": 285,
   "metadata": {},
   "outputs": [
    {
     "data": {
      "text/html": [
       "<div>\n",
       "<style scoped>\n",
       "    .dataframe tbody tr th:only-of-type {\n",
       "        vertical-align: middle;\n",
       "    }\n",
       "\n",
       "    .dataframe tbody tr th {\n",
       "        vertical-align: top;\n",
       "    }\n",
       "\n",
       "    .dataframe thead th {\n",
       "        text-align: right;\n",
       "    }\n",
       "</style>\n",
       "<table border=\"1\" class=\"dataframe\">\n",
       "  <thead>\n",
       "    <tr style=\"text-align: right;\">\n",
       "      <th></th>\n",
       "      <th>General_category_name</th>\n",
       "      <th>object_price</th>\n",
       "    </tr>\n",
       "  </thead>\n",
       "  <tbody>\n",
       "    <tr>\n",
       "      <th>0</th>\n",
       "      <td>Inmuebles</td>\n",
       "      <td>4.737186e+08</td>\n",
       "    </tr>\n",
       "    <tr>\n",
       "      <th>1</th>\n",
       "      <td>Carros, Motos y Otros</td>\n",
       "      <td>7.037546e+07</td>\n",
       "    </tr>\n",
       "    <tr>\n",
       "      <th>2</th>\n",
       "      <td>Servicios</td>\n",
       "      <td>6.425454e+06</td>\n",
       "    </tr>\n",
       "    <tr>\n",
       "      <th>3</th>\n",
       "      <td>Computación</td>\n",
       "      <td>5.807199e+05</td>\n",
       "    </tr>\n",
       "    <tr>\n",
       "      <th>4</th>\n",
       "      <td>Consolas y Videojuegos</td>\n",
       "      <td>5.788067e+05</td>\n",
       "    </tr>\n",
       "    <tr>\n",
       "      <th>5</th>\n",
       "      <td>Cámaras y Accesorios</td>\n",
       "      <td>5.702556e+05</td>\n",
       "    </tr>\n",
       "    <tr>\n",
       "      <th>6</th>\n",
       "      <td>Agro</td>\n",
       "      <td>5.239068e+05</td>\n",
       "    </tr>\n",
       "    <tr>\n",
       "      <th>7</th>\n",
       "      <td>Electrodomésticos</td>\n",
       "      <td>4.399342e+05</td>\n",
       "    </tr>\n",
       "    <tr>\n",
       "      <th>8</th>\n",
       "      <td>Celulares y Teléfonos</td>\n",
       "      <td>4.223680e+05</td>\n",
       "    </tr>\n",
       "    <tr>\n",
       "      <th>9</th>\n",
       "      <td>Instrumentos Musicales</td>\n",
       "      <td>4.067101e+05</td>\n",
       "    </tr>\n",
       "  </tbody>\n",
       "</table>\n",
       "</div>"
      ],
      "text/plain": [
       "    General_category_name  object_price\n",
       "0               Inmuebles  4.737186e+08\n",
       "1   Carros, Motos y Otros  7.037546e+07\n",
       "2               Servicios  6.425454e+06\n",
       "3             Computación  5.807199e+05\n",
       "4  Consolas y Videojuegos  5.788067e+05\n",
       "5    Cámaras y Accesorios  5.702556e+05\n",
       "6                    Agro  5.239068e+05\n",
       "7       Electrodomésticos  4.399342e+05\n",
       "8   Celulares y Teléfonos  4.223680e+05\n",
       "9  Instrumentos Musicales  4.067101e+05"
      ]
     },
     "execution_count": 285,
     "metadata": {},
     "output_type": "execute_result"
    }
   ],
   "source": [
    "datasetv3.groupby('General_category_name').object_price.mean().sort_values(ascending=False).head(10).reset_index()"
   ]
  },
  {
   "cell_type": "markdown",
   "metadata": {},
   "source": [
    "Realizando un top 10 de promedios de precio má altos, las anteriores 7 categorías se encuentran en este top 10."
   ]
  },
  {
   "cell_type": "markdown",
   "metadata": {},
   "source": [
    "Y el top de menos costosas:"
   ]
  },
  {
   "cell_type": "code",
   "execution_count": 249,
   "metadata": {},
   "outputs": [
    {
     "data": {
      "text/html": [
       "<div>\n",
       "<style scoped>\n",
       "    .dataframe tbody tr th:only-of-type {\n",
       "        vertical-align: middle;\n",
       "    }\n",
       "\n",
       "    .dataframe tbody tr th {\n",
       "        vertical-align: top;\n",
       "    }\n",
       "\n",
       "    .dataframe thead th {\n",
       "        text-align: right;\n",
       "    }\n",
       "</style>\n",
       "<table border=\"1\" class=\"dataframe\">\n",
       "  <thead>\n",
       "    <tr style=\"text-align: right;\">\n",
       "      <th></th>\n",
       "      <th>General_category_name</th>\n",
       "      <th>object_price</th>\n",
       "    </tr>\n",
       "  </thead>\n",
       "  <tbody>\n",
       "    <tr>\n",
       "      <th>0</th>\n",
       "      <td>Recuerdos, Piñatería y Fiestas</td>\n",
       "      <td>23762.373333</td>\n",
       "    </tr>\n",
       "    <tr>\n",
       "      <th>1</th>\n",
       "      <td>Alimentos y Bebidas</td>\n",
       "      <td>43361.634771</td>\n",
       "    </tr>\n",
       "    <tr>\n",
       "      <th>2</th>\n",
       "      <td>Arte, Papelería y Mercería</td>\n",
       "      <td>46155.415385</td>\n",
       "    </tr>\n",
       "    <tr>\n",
       "      <th>3</th>\n",
       "      <td>Belleza y Cuidado Personal</td>\n",
       "      <td>52522.158140</td>\n",
       "    </tr>\n",
       "    <tr>\n",
       "      <th>4</th>\n",
       "      <td>Antigüedades y Colecciones</td>\n",
       "      <td>54241.293333</td>\n",
       "    </tr>\n",
       "    <tr>\n",
       "      <th>5</th>\n",
       "      <td>Salud y Equipamiento Médico</td>\n",
       "      <td>55243.380000</td>\n",
       "    </tr>\n",
       "    <tr>\n",
       "      <th>6</th>\n",
       "      <td>Ropa y Accesorios</td>\n",
       "      <td>55771.023192</td>\n",
       "    </tr>\n",
       "    <tr>\n",
       "      <th>7</th>\n",
       "      <td>Libros, Revistas y Comics</td>\n",
       "      <td>60955.224299</td>\n",
       "    </tr>\n",
       "    <tr>\n",
       "      <th>8</th>\n",
       "      <td>Otras categorías</td>\n",
       "      <td>61973.896000</td>\n",
       "    </tr>\n",
       "    <tr>\n",
       "      <th>9</th>\n",
       "      <td>Juegos y Juguetes</td>\n",
       "      <td>87495.922043</td>\n",
       "    </tr>\n",
       "  </tbody>\n",
       "</table>\n",
       "</div>"
      ],
      "text/plain": [
       "            General_category_name  object_price\n",
       "0  Recuerdos, Piñatería y Fiestas  23762.373333\n",
       "1             Alimentos y Bebidas  43361.634771\n",
       "2      Arte, Papelería y Mercería  46155.415385\n",
       "3      Belleza y Cuidado Personal  52522.158140\n",
       "4      Antigüedades y Colecciones  54241.293333\n",
       "5     Salud y Equipamiento Médico  55243.380000\n",
       "6               Ropa y Accesorios  55771.023192\n",
       "7       Libros, Revistas y Comics  60955.224299\n",
       "8                Otras categorías  61973.896000\n",
       "9               Juegos y Juguetes  87495.922043"
      ]
     },
     "execution_count": 249,
     "metadata": {},
     "output_type": "execute_result"
    }
   ],
   "source": [
    "datasetv3.groupby('General_category_name').object_price.mean().sort_values(ascending=True).head(10).reset_index()"
   ]
  },
  {
   "cell_type": "markdown",
   "metadata": {},
   "source": [
    " "
   ]
  },
  {
   "cell_type": "markdown",
   "metadata": {},
   "source": [
    "### Cantidades vendidas:"
   ]
  },
  {
   "cell_type": "markdown",
   "metadata": {},
   "source": [
    " "
   ]
  },
  {
   "cell_type": "code",
   "execution_count": 211,
   "metadata": {},
   "outputs": [
    {
     "data": {
      "image/png": "[encoded data removed]",
      "text/plain": [
       "<Figure size 720x720 with 1 Axes>"
      ]
     },
     "metadata": {
      "needs_background": "light"
     },
     "output_type": "display_data"
    }
   ],
   "source": [
    "sns.boxplot(x='General_category_name', y = 'object_sold_quantity', data = datasetv3,showfliers=False)\n",
    "\n",
    "plt.title(\"category vs sold\", fontsize=20, verticalalignment='bottom')\n",
    "plt.xticks(rotation=90)\n",
    "plt.rcParams['figure.figsize']=(10,10)"
   ]
  },
  {
   "cell_type": "markdown",
   "metadata": {},
   "source": [
    "De acuerdo a la mediana y a la distribución de cada categoría, se realiza el siguiente top de productos más vendidos:\n",
    "1. Salud y Equipamiento Médico\n",
    "2. Belleza y Cuidado Personal\n",
    "3. Deportes y Fitness \n",
    "4. Computación\n",
    "5. Electrónica, Audio y Video\n",
    "6. Ropa y Accesorios\n",
    "7. Hogar y Muebles\n",
    "8. Industrias y oficinas"
   ]
  },
  {
   "cell_type": "markdown",
   "metadata": {},
   "source": [
    "Observemos el top de las categorías más vendidas,teniendo en cuenta solo promedios:"
   ]
  },
  {
   "cell_type": "code",
   "execution_count": 250,
   "metadata": {},
   "outputs": [
    {
     "data": {
      "text/html": [
       "<div>\n",
       "<style scoped>\n",
       "    .dataframe tbody tr th:only-of-type {\n",
       "        vertical-align: middle;\n",
       "    }\n",
       "\n",
       "    .dataframe tbody tr th {\n",
       "        vertical-align: top;\n",
       "    }\n",
       "\n",
       "    .dataframe thead th {\n",
       "        text-align: right;\n",
       "    }\n",
       "</style>\n",
       "<table border=\"1\" class=\"dataframe\">\n",
       "  <thead>\n",
       "    <tr style=\"text-align: right;\">\n",
       "      <th></th>\n",
       "      <th>General_category_name</th>\n",
       "      <th>object_sold_quantity</th>\n",
       "    </tr>\n",
       "  </thead>\n",
       "  <tbody>\n",
       "    <tr>\n",
       "      <th>0</th>\n",
       "      <td>Salud y Equipamiento Médico</td>\n",
       "      <td>411.493333</td>\n",
       "    </tr>\n",
       "    <tr>\n",
       "      <th>1</th>\n",
       "      <td>Belleza y Cuidado Personal</td>\n",
       "      <td>351.862016</td>\n",
       "    </tr>\n",
       "    <tr>\n",
       "      <th>2</th>\n",
       "      <td>Computación</td>\n",
       "      <td>327.863568</td>\n",
       "    </tr>\n",
       "    <tr>\n",
       "      <th>3</th>\n",
       "      <td>Deportes y Fitness</td>\n",
       "      <td>319.443522</td>\n",
       "    </tr>\n",
       "    <tr>\n",
       "      <th>4</th>\n",
       "      <td>Electrónica, Audio y Video</td>\n",
       "      <td>318.886700</td>\n",
       "    </tr>\n",
       "    <tr>\n",
       "      <th>5</th>\n",
       "      <td>Industrias y Oficinas</td>\n",
       "      <td>294.815356</td>\n",
       "    </tr>\n",
       "    <tr>\n",
       "      <th>6</th>\n",
       "      <td>Hogar y Muebles</td>\n",
       "      <td>285.056090</td>\n",
       "    </tr>\n",
       "    <tr>\n",
       "      <th>7</th>\n",
       "      <td>Ropa y Accesorios</td>\n",
       "      <td>262.673943</td>\n",
       "    </tr>\n",
       "    <tr>\n",
       "      <th>8</th>\n",
       "      <td>Celulares y Teléfonos</td>\n",
       "      <td>248.785597</td>\n",
       "    </tr>\n",
       "    <tr>\n",
       "      <th>9</th>\n",
       "      <td>Electrodomésticos</td>\n",
       "      <td>179.690058</td>\n",
       "    </tr>\n",
       "  </tbody>\n",
       "</table>\n",
       "</div>"
      ],
      "text/plain": [
       "         General_category_name  object_sold_quantity\n",
       "0  Salud y Equipamiento Médico            411.493333\n",
       "1   Belleza y Cuidado Personal            351.862016\n",
       "2                  Computación            327.863568\n",
       "3           Deportes y Fitness            319.443522\n",
       "4   Electrónica, Audio y Video            318.886700\n",
       "5        Industrias y Oficinas            294.815356\n",
       "6              Hogar y Muebles            285.056090\n",
       "7            Ropa y Accesorios            262.673943\n",
       "8        Celulares y Teléfonos            248.785597\n",
       "9            Electrodomésticos            179.690058"
      ]
     },
     "execution_count": 250,
     "metadata": {},
     "output_type": "execute_result"
    }
   ],
   "source": [
    "datasetv3.groupby('General_category_name').object_sold_quantity.mean().sort_values(ascending=False).head(10).reset_index()"
   ]
  },
  {
   "cell_type": "markdown",
   "metadata": {},
   "source": [
    "y las menos vendidas:"
   ]
  },
  {
   "cell_type": "code",
   "execution_count": 251,
   "metadata": {},
   "outputs": [
    {
     "data": {
      "text/html": [
       "<div>\n",
       "<style scoped>\n",
       "    .dataframe tbody tr th:only-of-type {\n",
       "        vertical-align: middle;\n",
       "    }\n",
       "\n",
       "    .dataframe tbody tr th {\n",
       "        vertical-align: top;\n",
       "    }\n",
       "\n",
       "    .dataframe thead th {\n",
       "        text-align: right;\n",
       "    }\n",
       "</style>\n",
       "<table border=\"1\" class=\"dataframe\">\n",
       "  <thead>\n",
       "    <tr style=\"text-align: right;\">\n",
       "      <th></th>\n",
       "      <th>General_category_name</th>\n",
       "      <th>object_sold_quantity</th>\n",
       "    </tr>\n",
       "  </thead>\n",
       "  <tbody>\n",
       "    <tr>\n",
       "      <th>0</th>\n",
       "      <td>Servicios</td>\n",
       "      <td>0.000000</td>\n",
       "    </tr>\n",
       "    <tr>\n",
       "      <th>1</th>\n",
       "      <td>Carros, Motos y Otros</td>\n",
       "      <td>0.000000</td>\n",
       "    </tr>\n",
       "    <tr>\n",
       "      <th>2</th>\n",
       "      <td>Inmuebles</td>\n",
       "      <td>0.000000</td>\n",
       "    </tr>\n",
       "    <tr>\n",
       "      <th>3</th>\n",
       "      <td>Boletas para Espectáculos</td>\n",
       "      <td>1.788360</td>\n",
       "    </tr>\n",
       "    <tr>\n",
       "      <th>4</th>\n",
       "      <td>Música, Películas y Series</td>\n",
       "      <td>13.905333</td>\n",
       "    </tr>\n",
       "    <tr>\n",
       "      <th>5</th>\n",
       "      <td>Antigüedades y Colecciones</td>\n",
       "      <td>21.256000</td>\n",
       "    </tr>\n",
       "    <tr>\n",
       "      <th>6</th>\n",
       "      <td>Construcción</td>\n",
       "      <td>26.260989</td>\n",
       "    </tr>\n",
       "    <tr>\n",
       "      <th>7</th>\n",
       "      <td>Agro</td>\n",
       "      <td>28.624813</td>\n",
       "    </tr>\n",
       "    <tr>\n",
       "      <th>8</th>\n",
       "      <td>Libros, Revistas y Comics</td>\n",
       "      <td>39.700935</td>\n",
       "    </tr>\n",
       "    <tr>\n",
       "      <th>9</th>\n",
       "      <td>Otras categorías</td>\n",
       "      <td>51.202667</td>\n",
       "    </tr>\n",
       "  </tbody>\n",
       "</table>\n",
       "</div>"
      ],
      "text/plain": [
       "        General_category_name  object_sold_quantity\n",
       "0                   Servicios              0.000000\n",
       "1       Carros, Motos y Otros              0.000000\n",
       "2                   Inmuebles              0.000000\n",
       "3   Boletas para Espectáculos              1.788360\n",
       "4  Música, Películas y Series             13.905333\n",
       "5  Antigüedades y Colecciones             21.256000\n",
       "6                Construcción             26.260989\n",
       "7                        Agro             28.624813\n",
       "8   Libros, Revistas y Comics             39.700935\n",
       "9            Otras categorías             51.202667"
      ]
     },
     "execution_count": 251,
     "metadata": {},
     "output_type": "execute_result"
    }
   ],
   "source": [
    "datasetv3.groupby('General_category_name').object_sold_quantity.mean().sort_values(ascending=True).head(10).reset_index()"
   ]
  },
  {
   "cell_type": "markdown",
   "metadata": {},
   "source": [
    " "
   ]
  },
  {
   "cell_type": "markdown",
   "metadata": {},
   "source": [
    "### Tasa aviableVSsold:"
   ]
  },
  {
   "cell_type": "code",
   "execution_count": 213,
   "metadata": {},
   "outputs": [
    {
     "data": {
      "image/png": "[encoded data removed]",
      "text/plain": [
       "<Figure size 720x720 with 1 Axes>"
      ]
     },
     "metadata": {
      "needs_background": "light"
     },
     "output_type": "display_data"
    }
   ],
   "source": [
    "sns.boxplot(x='General_category_name', y = 'TAvailableVSsold', data = datasetv3,showfliers=False)\n",
    "\n",
    "plt.title(\"category vs Tasa\", fontsize=20, verticalalignment='bottom')\n",
    "plt.xticks(rotation=90)\n",
    "plt.rcParams['figure.figsize']=(10,10)"
   ]
  },
  {
   "cell_type": "markdown",
   "metadata": {},
   "source": [
    "Top menor rotación de productos:"
   ]
  },
  {
   "cell_type": "code",
   "execution_count": 252,
   "metadata": {},
   "outputs": [
    {
     "data": {
      "text/html": [
       "<div>\n",
       "<style scoped>\n",
       "    .dataframe tbody tr th:only-of-type {\n",
       "        vertical-align: middle;\n",
       "    }\n",
       "\n",
       "    .dataframe tbody tr th {\n",
       "        vertical-align: top;\n",
       "    }\n",
       "\n",
       "    .dataframe thead th {\n",
       "        text-align: right;\n",
       "    }\n",
       "</style>\n",
       "<table border=\"1\" class=\"dataframe\">\n",
       "  <thead>\n",
       "    <tr style=\"text-align: right;\">\n",
       "      <th></th>\n",
       "      <th>General_category_name</th>\n",
       "      <th>TAvailableVSsold</th>\n",
       "    </tr>\n",
       "  </thead>\n",
       "  <tbody>\n",
       "    <tr>\n",
       "      <th>0</th>\n",
       "      <td>Música, Películas y Series</td>\n",
       "      <td>24.223760</td>\n",
       "    </tr>\n",
       "    <tr>\n",
       "      <th>1</th>\n",
       "      <td>Recuerdos, Piñatería y Fiestas</td>\n",
       "      <td>22.607171</td>\n",
       "    </tr>\n",
       "    <tr>\n",
       "      <th>2</th>\n",
       "      <td>Antigüedades y Colecciones</td>\n",
       "      <td>21.606406</td>\n",
       "    </tr>\n",
       "    <tr>\n",
       "      <th>3</th>\n",
       "      <td>Instrumentos Musicales</td>\n",
       "      <td>21.322174</td>\n",
       "    </tr>\n",
       "    <tr>\n",
       "      <th>4</th>\n",
       "      <td>Libros, Revistas y Comics</td>\n",
       "      <td>16.559915</td>\n",
       "    </tr>\n",
       "    <tr>\n",
       "      <th>5</th>\n",
       "      <td>Otras categorías</td>\n",
       "      <td>13.066687</td>\n",
       "    </tr>\n",
       "    <tr>\n",
       "      <th>6</th>\n",
       "      <td>Agro</td>\n",
       "      <td>10.842062</td>\n",
       "    </tr>\n",
       "    <tr>\n",
       "      <th>7</th>\n",
       "      <td>Hogar y Muebles</td>\n",
       "      <td>7.334849</td>\n",
       "    </tr>\n",
       "    <tr>\n",
       "      <th>8</th>\n",
       "      <td>Construcción</td>\n",
       "      <td>6.598367</td>\n",
       "    </tr>\n",
       "    <tr>\n",
       "      <th>9</th>\n",
       "      <td>Cámaras y Accesorios</td>\n",
       "      <td>5.851184</td>\n",
       "    </tr>\n",
       "  </tbody>\n",
       "</table>\n",
       "</div>"
      ],
      "text/plain": [
       "            General_category_name  TAvailableVSsold\n",
       "0      Música, Películas y Series         24.223760\n",
       "1  Recuerdos, Piñatería y Fiestas         22.607171\n",
       "2      Antigüedades y Colecciones         21.606406\n",
       "3          Instrumentos Musicales         21.322174\n",
       "4       Libros, Revistas y Comics         16.559915\n",
       "5                Otras categorías         13.066687\n",
       "6                            Agro         10.842062\n",
       "7                 Hogar y Muebles          7.334849\n",
       "8                    Construcción          6.598367\n",
       "9            Cámaras y Accesorios          5.851184"
      ]
     },
     "execution_count": 252,
     "metadata": {},
     "output_type": "execute_result"
    }
   ],
   "source": [
    "datasetv3.groupby('General_category_name').TAvailableVSsold.mean().sort_values(ascending=False).head(10).reset_index()"
   ]
  },
  {
   "cell_type": "markdown",
   "metadata": {},
   "source": [
    "Top mayor rotación de productos:"
   ]
  },
  {
   "cell_type": "code",
   "execution_count": 286,
   "metadata": {},
   "outputs": [
    {
     "data": {
      "text/html": [
       "<div>\n",
       "<style scoped>\n",
       "    .dataframe tbody tr th:only-of-type {\n",
       "        vertical-align: middle;\n",
       "    }\n",
       "\n",
       "    .dataframe tbody tr th {\n",
       "        vertical-align: top;\n",
       "    }\n",
       "\n",
       "    .dataframe thead th {\n",
       "        text-align: right;\n",
       "    }\n",
       "</style>\n",
       "<table border=\"1\" class=\"dataframe\">\n",
       "  <thead>\n",
       "    <tr style=\"text-align: right;\">\n",
       "      <th></th>\n",
       "      <th>General_category_name</th>\n",
       "      <th>TAvailableVSsold</th>\n",
       "    </tr>\n",
       "  </thead>\n",
       "  <tbody>\n",
       "    <tr>\n",
       "      <th>0</th>\n",
       "      <td>Computación</td>\n",
       "      <td>0.537161</td>\n",
       "    </tr>\n",
       "    <tr>\n",
       "      <th>1</th>\n",
       "      <td>Celulares y Teléfonos</td>\n",
       "      <td>0.765403</td>\n",
       "    </tr>\n",
       "    <tr>\n",
       "      <th>2</th>\n",
       "      <td>Relojes y Joyas</td>\n",
       "      <td>0.844860</td>\n",
       "    </tr>\n",
       "    <tr>\n",
       "      <th>3</th>\n",
       "      <td>Electrónica, Audio y Video</td>\n",
       "      <td>0.995835</td>\n",
       "    </tr>\n",
       "    <tr>\n",
       "      <th>4</th>\n",
       "      <td>Servicios</td>\n",
       "      <td>1.000000</td>\n",
       "    </tr>\n",
       "    <tr>\n",
       "      <th>5</th>\n",
       "      <td>Inmuebles</td>\n",
       "      <td>1.000000</td>\n",
       "    </tr>\n",
       "    <tr>\n",
       "      <th>6</th>\n",
       "      <td>Carros, Motos y Otros</td>\n",
       "      <td>1.000000</td>\n",
       "    </tr>\n",
       "    <tr>\n",
       "      <th>7</th>\n",
       "      <td>Deportes y Fitness</td>\n",
       "      <td>1.179133</td>\n",
       "    </tr>\n",
       "    <tr>\n",
       "      <th>8</th>\n",
       "      <td>Belleza y Cuidado Personal</td>\n",
       "      <td>1.210392</td>\n",
       "    </tr>\n",
       "    <tr>\n",
       "      <th>9</th>\n",
       "      <td>Electrodomésticos</td>\n",
       "      <td>1.604208</td>\n",
       "    </tr>\n",
       "  </tbody>\n",
       "</table>\n",
       "</div>"
      ],
      "text/plain": [
       "        General_category_name  TAvailableVSsold\n",
       "0                 Computación          0.537161\n",
       "1       Celulares y Teléfonos          0.765403\n",
       "2             Relojes y Joyas          0.844860\n",
       "3  Electrónica, Audio y Video          0.995835\n",
       "4                   Servicios          1.000000\n",
       "5                   Inmuebles          1.000000\n",
       "6       Carros, Motos y Otros          1.000000\n",
       "7          Deportes y Fitness          1.179133\n",
       "8  Belleza y Cuidado Personal          1.210392\n",
       "9           Electrodomésticos          1.604208"
      ]
     },
     "execution_count": 286,
     "metadata": {},
     "output_type": "execute_result"
    }
   ],
   "source": [
    "datasetv3.groupby('General_category_name').TAvailableVSsold.mean().sort_values(ascending=True).head(10).reset_index()"
   ]
  },
  {
   "cell_type": "markdown",
   "metadata": {},
   "source": [
    " "
   ]
  },
  {
   "cell_type": "markdown",
   "metadata": {},
   "source": [
    "Combinando esta parte con el top de productos más y menos vendidos se puede decir que:\n",
    "\n",
    "Habíamos notado que las categorías Computación, Celulares y Telefonos y Electrónica, Audio y Video hacen parte del top 10 de categorías más vendidas, y ahora vemos, que a su vez, son las categorías con mejor rotación de productos, es decir que, la cantidad de productos en inventario no supera a la cantidad de productos vendidos, pensandose así que hay una buena relación entre lo que entra y sale.\n",
    "\n",
    "Mientras que las categorías Música, películas y series,y Antiguedad y colecciones, hacen parte de las categorías menos vendidas y a su vez la cantidad de productos en inventario supera la cantidad de vendidos, por lo que puede pensarse que las bajas ventas no estan relacionadas con una indisponibilidad del producto, sino que más bien el producto es de baja rotación."
   ]
  },
  {
   "cell_type": "markdown",
   "metadata": {},
   "source": [
    "## Participación de productos en promoción por cada categoría"
   ]
  },
  {
   "cell_type": "markdown",
   "metadata": {},
   "source": [
    " "
   ]
  },
  {
   "cell_type": "markdown",
   "metadata": {},
   "source": [
    "Ahora se estudiará el porcentaje de productos en promoción de cada categoría y se relacionará con lo anteriormente concluido."
   ]
  },
  {
   "cell_type": "code",
   "execution_count": 287,
   "metadata": {},
   "outputs": [],
   "source": [
    "datasetv3['is_promo']=datasetv3['object_original_price'].apply(lambda x:1 if x>0 else 0)\n",
    "prod_cat=datasetv3.groupby('General_category_name').object_id.count().reset_index()"
   ]
  },
  {
   "cell_type": "code",
   "execution_count": 288,
   "metadata": {},
   "outputs": [],
   "source": [
    "prom_cat=datasetv3.groupby('General_category_name').is_promo.sum().reset_index()\n"
   ]
  },
  {
   "cell_type": "code",
   "execution_count": 289,
   "metadata": {},
   "outputs": [
    {
     "data": {
      "text/html": [
       "<div>\n",
       "<style scoped>\n",
       "    .dataframe tbody tr th:only-of-type {\n",
       "        vertical-align: middle;\n",
       "    }\n",
       "\n",
       "    .dataframe tbody tr th {\n",
       "        vertical-align: top;\n",
       "    }\n",
       "\n",
       "    .dataframe thead th {\n",
       "        text-align: right;\n",
       "    }\n",
       "</style>\n",
       "<table border=\"1\" class=\"dataframe\">\n",
       "  <thead>\n",
       "    <tr style=\"text-align: right;\">\n",
       "      <th></th>\n",
       "      <th>General_category_name</th>\n",
       "      <th>object_id</th>\n",
       "      <th>is_promo</th>\n",
       "    </tr>\n",
       "  </thead>\n",
       "  <tbody>\n",
       "    <tr>\n",
       "      <th>0</th>\n",
       "      <td>Accesorios para Vehículos</td>\n",
       "      <td>733</td>\n",
       "      <td>77</td>\n",
       "    </tr>\n",
       "    <tr>\n",
       "      <th>1</th>\n",
       "      <td>Agro</td>\n",
       "      <td>669</td>\n",
       "      <td>47</td>\n",
       "    </tr>\n",
       "  </tbody>\n",
       "</table>\n",
       "</div>"
      ],
      "text/plain": [
       "       General_category_name  object_id  is_promo\n",
       "0  Accesorios para Vehículos        733        77\n",
       "1                       Agro        669        47"
      ]
     },
     "execution_count": 289,
     "metadata": {},
     "output_type": "execute_result"
    }
   ],
   "source": [
    "prod_prom=prod_cat.merge(prom_cat, how='left',on='General_category_name')\n",
    "prod_prom.head(2)"
   ]
  },
  {
   "cell_type": "code",
   "execution_count": 290,
   "metadata": {},
   "outputs": [
    {
     "data": {
      "text/html": [
       "<div>\n",
       "<style scoped>\n",
       "    .dataframe tbody tr th:only-of-type {\n",
       "        vertical-align: middle;\n",
       "    }\n",
       "\n",
       "    .dataframe tbody tr th {\n",
       "        vertical-align: top;\n",
       "    }\n",
       "\n",
       "    .dataframe thead th {\n",
       "        text-align: right;\n",
       "    }\n",
       "</style>\n",
       "<table border=\"1\" class=\"dataframe\">\n",
       "  <thead>\n",
       "    <tr style=\"text-align: right;\">\n",
       "      <th></th>\n",
       "      <th>General_category_name</th>\n",
       "      <th>object_id</th>\n",
       "      <th>is_promo</th>\n",
       "      <th>pct_products_discount</th>\n",
       "    </tr>\n",
       "  </thead>\n",
       "  <tbody>\n",
       "    <tr>\n",
       "      <th>23</th>\n",
       "      <td>Juegos y Juguetes</td>\n",
       "      <td>744</td>\n",
       "      <td>176</td>\n",
       "      <td>0.236559</td>\n",
       "    </tr>\n",
       "    <tr>\n",
       "      <th>10</th>\n",
       "      <td>Celulares y Teléfonos</td>\n",
       "      <td>611</td>\n",
       "      <td>137</td>\n",
       "      <td>0.224223</td>\n",
       "    </tr>\n",
       "    <tr>\n",
       "      <th>16</th>\n",
       "      <td>Electrodomésticos</td>\n",
       "      <td>684</td>\n",
       "      <td>142</td>\n",
       "      <td>0.207602</td>\n",
       "    </tr>\n",
       "    <tr>\n",
       "      <th>19</th>\n",
       "      <td>Hogar y Muebles</td>\n",
       "      <td>624</td>\n",
       "      <td>92</td>\n",
       "      <td>0.147436</td>\n",
       "    </tr>\n",
       "    <tr>\n",
       "      <th>17</th>\n",
       "      <td>Electrónica, Audio y Video</td>\n",
       "      <td>609</td>\n",
       "      <td>89</td>\n",
       "      <td>0.146141</td>\n",
       "    </tr>\n",
       "    <tr>\n",
       "      <th>15</th>\n",
       "      <td>Deportes y Fitness</td>\n",
       "      <td>602</td>\n",
       "      <td>87</td>\n",
       "      <td>0.144518</td>\n",
       "    </tr>\n",
       "    <tr>\n",
       "      <th>29</th>\n",
       "      <td>Ropa y Accesorios</td>\n",
       "      <td>733</td>\n",
       "      <td>89</td>\n",
       "      <td>0.121419</td>\n",
       "    </tr>\n",
       "    <tr>\n",
       "      <th>18</th>\n",
       "      <td>Herramientas</td>\n",
       "      <td>738</td>\n",
       "      <td>88</td>\n",
       "      <td>0.119241</td>\n",
       "    </tr>\n",
       "    <tr>\n",
       "      <th>11</th>\n",
       "      <td>Computación</td>\n",
       "      <td>667</td>\n",
       "      <td>75</td>\n",
       "      <td>0.112444</td>\n",
       "    </tr>\n",
       "    <tr>\n",
       "      <th>0</th>\n",
       "      <td>Accesorios para Vehículos</td>\n",
       "      <td>733</td>\n",
       "      <td>77</td>\n",
       "      <td>0.105048</td>\n",
       "    </tr>\n",
       "    <tr>\n",
       "      <th>5</th>\n",
       "      <td>Arte, Papelería y Mercería</td>\n",
       "      <td>715</td>\n",
       "      <td>71</td>\n",
       "      <td>0.099301</td>\n",
       "    </tr>\n",
       "    <tr>\n",
       "      <th>2</th>\n",
       "      <td>Alimentos y Bebidas</td>\n",
       "      <td>742</td>\n",
       "      <td>63</td>\n",
       "      <td>0.084906</td>\n",
       "    </tr>\n",
       "    <tr>\n",
       "      <th>12</th>\n",
       "      <td>Consolas y Videojuegos</td>\n",
       "      <td>677</td>\n",
       "      <td>52</td>\n",
       "      <td>0.076809</td>\n",
       "    </tr>\n",
       "    <tr>\n",
       "      <th>20</th>\n",
       "      <td>Industrias y Oficinas</td>\n",
       "      <td>547</td>\n",
       "      <td>41</td>\n",
       "      <td>0.074954</td>\n",
       "    </tr>\n",
       "    <tr>\n",
       "      <th>1</th>\n",
       "      <td>Agro</td>\n",
       "      <td>669</td>\n",
       "      <td>47</td>\n",
       "      <td>0.070254</td>\n",
       "    </tr>\n",
       "    <tr>\n",
       "      <th>28</th>\n",
       "      <td>Relojes y Joyas</td>\n",
       "      <td>721</td>\n",
       "      <td>46</td>\n",
       "      <td>0.063800</td>\n",
       "    </tr>\n",
       "    <tr>\n",
       "      <th>22</th>\n",
       "      <td>Instrumentos Musicales</td>\n",
       "      <td>737</td>\n",
       "      <td>45</td>\n",
       "      <td>0.061058</td>\n",
       "    </tr>\n",
       "    <tr>\n",
       "      <th>7</th>\n",
       "      <td>Belleza y Cuidado Personal</td>\n",
       "      <td>645</td>\n",
       "      <td>36</td>\n",
       "      <td>0.055814</td>\n",
       "    </tr>\n",
       "    <tr>\n",
       "      <th>6</th>\n",
       "      <td>Bebés</td>\n",
       "      <td>625</td>\n",
       "      <td>32</td>\n",
       "      <td>0.051200</td>\n",
       "    </tr>\n",
       "    <tr>\n",
       "      <th>30</th>\n",
       "      <td>Salud y Equipamiento Médico</td>\n",
       "      <td>750</td>\n",
       "      <td>31</td>\n",
       "      <td>0.041333</td>\n",
       "    </tr>\n",
       "    <tr>\n",
       "      <th>3</th>\n",
       "      <td>Animales y Mascotas</td>\n",
       "      <td>750</td>\n",
       "      <td>30</td>\n",
       "      <td>0.040000</td>\n",
       "    </tr>\n",
       "    <tr>\n",
       "      <th>14</th>\n",
       "      <td>Cámaras y Accesorios</td>\n",
       "      <td>687</td>\n",
       "      <td>27</td>\n",
       "      <td>0.039301</td>\n",
       "    </tr>\n",
       "    <tr>\n",
       "      <th>24</th>\n",
       "      <td>Libros, Revistas y Comics</td>\n",
       "      <td>749</td>\n",
       "      <td>29</td>\n",
       "      <td>0.038718</td>\n",
       "    </tr>\n",
       "    <tr>\n",
       "      <th>13</th>\n",
       "      <td>Construcción</td>\n",
       "      <td>728</td>\n",
       "      <td>18</td>\n",
       "      <td>0.024725</td>\n",
       "    </tr>\n",
       "    <tr>\n",
       "      <th>4</th>\n",
       "      <td>Antigüedades y Colecciones</td>\n",
       "      <td>750</td>\n",
       "      <td>12</td>\n",
       "      <td>0.016000</td>\n",
       "    </tr>\n",
       "    <tr>\n",
       "      <th>26</th>\n",
       "      <td>Otras categorías</td>\n",
       "      <td>750</td>\n",
       "      <td>11</td>\n",
       "      <td>0.014667</td>\n",
       "    </tr>\n",
       "    <tr>\n",
       "      <th>27</th>\n",
       "      <td>Recuerdos, Piñatería y Fiestas</td>\n",
       "      <td>750</td>\n",
       "      <td>8</td>\n",
       "      <td>0.010667</td>\n",
       "    </tr>\n",
       "    <tr>\n",
       "      <th>9</th>\n",
       "      <td>Carros, Motos y Otros</td>\n",
       "      <td>750</td>\n",
       "      <td>7</td>\n",
       "      <td>0.009333</td>\n",
       "    </tr>\n",
       "    <tr>\n",
       "      <th>25</th>\n",
       "      <td>Música, Películas y Series</td>\n",
       "      <td>750</td>\n",
       "      <td>6</td>\n",
       "      <td>0.008000</td>\n",
       "    </tr>\n",
       "    <tr>\n",
       "      <th>21</th>\n",
       "      <td>Inmuebles</td>\n",
       "      <td>750</td>\n",
       "      <td>0</td>\n",
       "      <td>0.000000</td>\n",
       "    </tr>\n",
       "    <tr>\n",
       "      <th>8</th>\n",
       "      <td>Boletas para Espectáculos</td>\n",
       "      <td>567</td>\n",
       "      <td>0</td>\n",
       "      <td>0.000000</td>\n",
       "    </tr>\n",
       "    <tr>\n",
       "      <th>31</th>\n",
       "      <td>Servicios</td>\n",
       "      <td>750</td>\n",
       "      <td>0</td>\n",
       "      <td>0.000000</td>\n",
       "    </tr>\n",
       "  </tbody>\n",
       "</table>\n",
       "</div>"
      ],
      "text/plain": [
       "             General_category_name  object_id  is_promo  pct_products_discount\n",
       "23               Juegos y Juguetes        744       176               0.236559\n",
       "10           Celulares y Teléfonos        611       137               0.224223\n",
       "16               Electrodomésticos        684       142               0.207602\n",
       "19                 Hogar y Muebles        624        92               0.147436\n",
       "17      Electrónica, Audio y Video        609        89               0.146141\n",
       "15              Deportes y Fitness        602        87               0.144518\n",
       "29               Ropa y Accesorios        733        89               0.121419\n",
       "18                    Herramientas        738        88               0.119241\n",
       "11                     Computación        667        75               0.112444\n",
       "0        Accesorios para Vehículos        733        77               0.105048\n",
       "5       Arte, Papelería y Mercería        715        71               0.099301\n",
       "2              Alimentos y Bebidas        742        63               0.084906\n",
       "12          Consolas y Videojuegos        677        52               0.076809\n",
       "20           Industrias y Oficinas        547        41               0.074954\n",
       "1                             Agro        669        47               0.070254\n",
       "28                 Relojes y Joyas        721        46               0.063800\n",
       "22          Instrumentos Musicales        737        45               0.061058\n",
       "7       Belleza y Cuidado Personal        645        36               0.055814\n",
       "6                            Bebés        625        32               0.051200\n",
       "30     Salud y Equipamiento Médico        750        31               0.041333\n",
       "3              Animales y Mascotas        750        30               0.040000\n",
       "14            Cámaras y Accesorios        687        27               0.039301\n",
       "24       Libros, Revistas y Comics        749        29               0.038718\n",
       "13                    Construcción        728        18               0.024725\n",
       "4       Antigüedades y Colecciones        750        12               0.016000\n",
       "26                Otras categorías        750        11               0.014667\n",
       "27  Recuerdos, Piñatería y Fiestas        750         8               0.010667\n",
       "9            Carros, Motos y Otros        750         7               0.009333\n",
       "25      Música, Películas y Series        750         6               0.008000\n",
       "21                       Inmuebles        750         0               0.000000\n",
       "8        Boletas para Espectáculos        567         0               0.000000\n",
       "31                       Servicios        750         0               0.000000"
      ]
     },
     "execution_count": 290,
     "metadata": {},
     "output_type": "execute_result"
    }
   ],
   "source": [
    "prod_prom['pct_products_discount']=prod_prom['is_promo']/ prod_prom['object_id']\n",
    "prod_prom.sort_values('pct_products_discount',ascending=False)"
   ]
  },
  {
   "cell_type": "markdown",
   "metadata": {},
   "source": [
    " "
   ]
  },
  {
   "cell_type": "markdown",
   "metadata": {},
   "source": [
    "#### Ahora veamos el porcentaje promedio y la distribución del porcentaje de descuento en cada categoría (filtrando solo los productos en promoción)."
   ]
  },
  {
   "cell_type": "markdown",
   "metadata": {},
   "source": [
    " "
   ]
  },
  {
   "cell_type": "code",
   "execution_count": 291,
   "metadata": {},
   "outputs": [],
   "source": [
    "datasetwd= datasetv3[datasetv3['discount_value']>0]"
   ]
  },
  {
   "cell_type": "code",
   "execution_count": 292,
   "metadata": {},
   "outputs": [
    {
     "data": {
      "image/png": "[encoded data removed]",
      "text/plain": [
       "<Figure size 720x720 with 1 Axes>"
      ]
     },
     "metadata": {
      "needs_background": "light"
     },
     "output_type": "display_data"
    }
   ],
   "source": [
    "sns.boxplot(x='General_category_name', y = 'pct_discount', data = datasetwd,showfliers=False)\n",
    "\n",
    "plt.title(\"category vs discount\", fontsize=20, verticalalignment='bottom')\n",
    "plt.xticks(rotation=90)\n",
    "plt.rcParams['figure.figsize']=(10,10)"
   ]
  },
  {
   "cell_type": "markdown",
   "metadata": {},
   "source": [
    "Teniendo en cuenta la mediana y la distribución del pct de descuento, se realiza el siguiente top de categorías con mayor decuento en sus productos:\n",
    "\n",
    "1. Ropa y accesorios\n",
    "2. Relojes y Joyas\n",
    "3. Bebés\n",
    "4. Juegos y Juguetes\n",
    "5. Celulares y Teléfonos\n",
    "6. Consolas y videojuegos\n",
    "7. Electronica, Audio y video\n",
    "8. Deportes y Fitness\n",
    "9. Alimentos y Bebidas\n",
    "10. Instrumentos musicales"
   ]
  },
  {
   "cell_type": "markdown",
   "metadata": {},
   "source": [
    "Teniendo en cuenta el promedio, el top de las categorías con más y menos descuentos respectivamente:"
   ]
  },
  {
   "cell_type": "code",
   "execution_count": 293,
   "metadata": {},
   "outputs": [
    {
     "data": {
      "text/html": [
       "<div>\n",
       "<style scoped>\n",
       "    .dataframe tbody tr th:only-of-type {\n",
       "        vertical-align: middle;\n",
       "    }\n",
       "\n",
       "    .dataframe tbody tr th {\n",
       "        vertical-align: top;\n",
       "    }\n",
       "\n",
       "    .dataframe thead th {\n",
       "        text-align: right;\n",
       "    }\n",
       "</style>\n",
       "<table border=\"1\" class=\"dataframe\">\n",
       "  <thead>\n",
       "    <tr style=\"text-align: right;\">\n",
       "      <th></th>\n",
       "      <th>General_category_name</th>\n",
       "      <th>pct_discount</th>\n",
       "    </tr>\n",
       "  </thead>\n",
       "  <tbody>\n",
       "    <tr>\n",
       "      <th>0</th>\n",
       "      <td>Ropa y Accesorios</td>\n",
       "      <td>0.363515</td>\n",
       "    </tr>\n",
       "    <tr>\n",
       "      <th>1</th>\n",
       "      <td>Relojes y Joyas</td>\n",
       "      <td>0.339476</td>\n",
       "    </tr>\n",
       "    <tr>\n",
       "      <th>2</th>\n",
       "      <td>Juegos y Juguetes</td>\n",
       "      <td>0.312283</td>\n",
       "    </tr>\n",
       "    <tr>\n",
       "      <th>3</th>\n",
       "      <td>Consolas y Videojuegos</td>\n",
       "      <td>0.293584</td>\n",
       "    </tr>\n",
       "    <tr>\n",
       "      <th>4</th>\n",
       "      <td>Bebés</td>\n",
       "      <td>0.287453</td>\n",
       "    </tr>\n",
       "    <tr>\n",
       "      <th>5</th>\n",
       "      <td>Celulares y Teléfonos</td>\n",
       "      <td>0.283356</td>\n",
       "    </tr>\n",
       "    <tr>\n",
       "      <th>6</th>\n",
       "      <td>Electrónica, Audio y Video</td>\n",
       "      <td>0.274325</td>\n",
       "    </tr>\n",
       "    <tr>\n",
       "      <th>7</th>\n",
       "      <td>Deportes y Fitness</td>\n",
       "      <td>0.268190</td>\n",
       "    </tr>\n",
       "    <tr>\n",
       "      <th>8</th>\n",
       "      <td>Alimentos y Bebidas</td>\n",
       "      <td>0.252122</td>\n",
       "    </tr>\n",
       "    <tr>\n",
       "      <th>9</th>\n",
       "      <td>Instrumentos Musicales</td>\n",
       "      <td>0.247032</td>\n",
       "    </tr>\n",
       "  </tbody>\n",
       "</table>\n",
       "</div>"
      ],
      "text/plain": [
       "        General_category_name  pct_discount\n",
       "0           Ropa y Accesorios      0.363515\n",
       "1             Relojes y Joyas      0.339476\n",
       "2           Juegos y Juguetes      0.312283\n",
       "3      Consolas y Videojuegos      0.293584\n",
       "4                       Bebés      0.287453\n",
       "5       Celulares y Teléfonos      0.283356\n",
       "6  Electrónica, Audio y Video      0.274325\n",
       "7          Deportes y Fitness      0.268190\n",
       "8         Alimentos y Bebidas      0.252122\n",
       "9      Instrumentos Musicales      0.247032"
      ]
     },
     "execution_count": 293,
     "metadata": {},
     "output_type": "execute_result"
    }
   ],
   "source": [
    "datasetwd.groupby('General_category_name').pct_discount.mean().sort_values(ascending=False).head(10).reset_index()"
   ]
  },
  {
   "cell_type": "code",
   "execution_count": 294,
   "metadata": {},
   "outputs": [
    {
     "data": {
      "text/html": [
       "<div>\n",
       "<style scoped>\n",
       "    .dataframe tbody tr th:only-of-type {\n",
       "        vertical-align: middle;\n",
       "    }\n",
       "\n",
       "    .dataframe tbody tr th {\n",
       "        vertical-align: top;\n",
       "    }\n",
       "\n",
       "    .dataframe thead th {\n",
       "        text-align: right;\n",
       "    }\n",
       "</style>\n",
       "<table border=\"1\" class=\"dataframe\">\n",
       "  <thead>\n",
       "    <tr style=\"text-align: right;\">\n",
       "      <th></th>\n",
       "      <th>General_category_name</th>\n",
       "      <th>pct_discount</th>\n",
       "    </tr>\n",
       "  </thead>\n",
       "  <tbody>\n",
       "    <tr>\n",
       "      <th>0</th>\n",
       "      <td>Carros, Motos y Otros</td>\n",
       "      <td>0.038790</td>\n",
       "    </tr>\n",
       "    <tr>\n",
       "      <th>1</th>\n",
       "      <td>Música, Películas y Series</td>\n",
       "      <td>0.053333</td>\n",
       "    </tr>\n",
       "    <tr>\n",
       "      <th>2</th>\n",
       "      <td>Otras categorías</td>\n",
       "      <td>0.054545</td>\n",
       "    </tr>\n",
       "    <tr>\n",
       "      <th>3</th>\n",
       "      <td>Recuerdos, Piñatería y Fiestas</td>\n",
       "      <td>0.061810</td>\n",
       "    </tr>\n",
       "    <tr>\n",
       "      <th>4</th>\n",
       "      <td>Antigüedades y Colecciones</td>\n",
       "      <td>0.101828</td>\n",
       "    </tr>\n",
       "    <tr>\n",
       "      <th>5</th>\n",
       "      <td>Construcción</td>\n",
       "      <td>0.103350</td>\n",
       "    </tr>\n",
       "    <tr>\n",
       "      <th>6</th>\n",
       "      <td>Arte, Papelería y Mercería</td>\n",
       "      <td>0.124193</td>\n",
       "    </tr>\n",
       "    <tr>\n",
       "      <th>7</th>\n",
       "      <td>Animales y Mascotas</td>\n",
       "      <td>0.131334</td>\n",
       "    </tr>\n",
       "    <tr>\n",
       "      <th>8</th>\n",
       "      <td>Libros, Revistas y Comics</td>\n",
       "      <td>0.134663</td>\n",
       "    </tr>\n",
       "    <tr>\n",
       "      <th>9</th>\n",
       "      <td>Agro</td>\n",
       "      <td>0.150975</td>\n",
       "    </tr>\n",
       "  </tbody>\n",
       "</table>\n",
       "</div>"
      ],
      "text/plain": [
       "            General_category_name  pct_discount\n",
       "0           Carros, Motos y Otros      0.038790\n",
       "1      Música, Películas y Series      0.053333\n",
       "2                Otras categorías      0.054545\n",
       "3  Recuerdos, Piñatería y Fiestas      0.061810\n",
       "4      Antigüedades y Colecciones      0.101828\n",
       "5                    Construcción      0.103350\n",
       "6      Arte, Papelería y Mercería      0.124193\n",
       "7             Animales y Mascotas      0.131334\n",
       "8       Libros, Revistas y Comics      0.134663\n",
       "9                            Agro      0.150975"
      ]
     },
     "execution_count": 294,
     "metadata": {},
     "output_type": "execute_result"
    }
   ],
   "source": [
    "datasetwd.groupby('General_category_name').pct_discount.mean().sort_values(ascending=True).head(10).reset_index()"
   ]
  },
  {
   "cell_type": "markdown",
   "metadata": {},
   "source": [
    " "
   ]
  },
  {
   "cell_type": "markdown",
   "metadata": {},
   "source": [
    "# Conclusiones"
   ]
  },
  {
   "cell_type": "markdown",
   "metadata": {},
   "source": [
    " "
   ]
  },
  {
   "cell_type": "markdown",
   "metadata": {},
   "source": [
    "1. Servicios es una de las categorías más costosas, menos vendidas y con menor participación de productos en promoción. Lo mismo sucede para la categoría inmuebles. ¿Podría pensarse que un impulso para estas categorías puede ser el ofrecimiento de más promociones? \n",
    "\n",
    "2. Computación es una de las categorías más costosas, más vendidas, con mejor rotación, y clasifica dentro del top 10 de categorías con más productos en promoción. \n",
    "\n",
    "3. Celularesy Teléfonos es una de las categorías con mejor rotación, entra en el top 10 de más costosas y de más vendidas, y esta entre las 10 que más productos en promoción tiene, adicional, el porcentaje de descuento ofrecido en sus productos esta entre los más altos. ¿Habrá relación entre las varables ventas y promoción?. \n",
    "\n",
    "4. Las categorías belleza y salud equipamiento médico se encuentran entre las más vendidas y menos costosas. Esta categoría tampoco pertenece a las categorías con mayor participación de productos en promoción. ¿Es posible pensar que las ventas de un producto dependen de la interacción entre la variable precio y la variable promoción?\n",
    "\n",
    "5. Juegos y Juguetes, esta en el top de categorías con más productos en promoción y con mejores descuentos, adicional son categorías menos costosas, sin embargo no pertenece al top de categorías más vendidas. Entonces, no necesariamente el precio y los descuentos influyen en las ventas, hace falta una variable relacionada con la naturaleza de la categoría, quizas podría ser una variable de temporalidad. "
   ]
  },
  {
   "cell_type": "markdown",
   "metadata": {},
   "source": [
    " "
   ]
  },
  {
   "cell_type": "markdown",
   "metadata": {},
   "source": [
    "Se guarda la base datasetv3 para utilizarla en la tercera parte (modelación)"
   ]
  },
  {
   "cell_type": "code",
   "execution_count": 295,
   "metadata": {},
   "outputs": [],
   "source": [
    "ruta = \"./files/dataset_modelar.csv\"\n",
    "datasetv3.to_csv(ruta,index=False)"
   ]
  }
 ],
 "metadata": {
  "kernelspec": {
   "display_name": "Python 3",
   "language": "python",
   "name": "python3"
  },
  "language_info": {
   "codemirror_mode": {
    "name": "ipython",
    "version": 3
   },
   "file_extension": ".py",
   "mimetype": "text/x-python",
   "name": "python",
   "nbconvert_exporter": "python",
   "pygments_lexer": "ipython3",
   "version": "3.7.7"
  }
 },
 "nbformat": 4,
 "nbformat_minor": 4
}
