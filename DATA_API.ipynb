{
 "cells": [
  {
   "cell_type": "markdown",
   "metadata": {},
   "source": [
    "# Extrayendo datos desde las api públicas de mercado libre"
   ]
  },
  {
   "cell_type": "markdown",
   "metadata": {},
   "source": [
    "Con el metodo get de la librería requests se consumiran las apis. La primera api a consumir, será el diccionario de categorías existentes a la fecha en mercado libre."
   ]
  },
  {
   "cell_type": "code",
   "execution_count": 1,
   "metadata": {},
   "outputs": [],
   "source": [
    "import requests \n",
    "from tqdm import tqdm\n",
    "import pandas as pd"
   ]
  },
  {
   "cell_type": "code",
   "execution_count": 2,
   "metadata": {},
   "outputs": [],
   "source": [
    "\n",
    "r =requests.get('https://api.mercadolibre.com/sites/MCO/categories') #api de las categorias consultada en https://developers.mercadolibre.com.ar/es_ar/categoriza-productos\n"
   ]
  },
  {
   "cell_type": "markdown",
   "metadata": {},
   "source": [
    "Se guardan los resultados como un .json y se recorre este diccionario pintando las diferentes categorías: "
   ]
  },
  {
   "cell_type": "code",
   "execution_count": 3,
   "metadata": {},
   "outputs": [
    {
     "name": "stdout",
     "output_type": "stream",
     "text": [
      "{'id': 'MCO1747', 'name': 'Accesorios para Vehículos'}\n",
      "{'id': 'MCO441917', 'name': 'Agro'}\n",
      "{'id': 'MCO1403', 'name': 'Alimentos y Bebidas'}\n",
      "{'id': 'MCO1071', 'name': 'Animales y Mascotas'}\n",
      "{'id': 'MCO1367', 'name': 'Antigüedades y Colecciones'}\n",
      "{'id': 'MCO1368', 'name': 'Arte, Papelería y Mercería'}\n",
      "{'id': 'MCO1384', 'name': 'Bebés'}\n",
      "{'id': 'MCO1246', 'name': 'Belleza y Cuidado Personal'}\n",
      "{'id': 'MCO40433', 'name': 'Boletas para Espectáculos'}\n",
      "{'id': 'MCO1039', 'name': 'Cámaras y Accesorios'}\n",
      "{'id': 'MCO1743', 'name': 'Carros, Motos y Otros'}\n",
      "{'id': 'MCO1051', 'name': 'Celulares y Teléfonos'}\n",
      "{'id': 'MCO1648', 'name': 'Computación'}\n",
      "{'id': 'MCO1144', 'name': 'Consolas y Videojuegos'}\n",
      "{'id': 'MCO172890', 'name': 'Construcción'}\n",
      "{'id': 'MCO1276', 'name': 'Deportes y Fitness'}\n",
      "{'id': 'MCO5726', 'name': 'Electrodomésticos'}\n",
      "{'id': 'MCO1000', 'name': 'Electrónica, Audio y Video'}\n",
      "{'id': 'MCO175794', 'name': 'Herramientas'}\n",
      "{'id': 'MCO1574', 'name': 'Hogar y Muebles'}\n",
      "{'id': 'MCO1499', 'name': 'Industrias y Oficinas'}\n",
      "{'id': 'MCO1459', 'name': 'Inmuebles'}\n",
      "{'id': 'MCO1182', 'name': 'Instrumentos Musicales'}\n",
      "{'id': 'MCO1132', 'name': 'Juegos y Juguetes'}\n",
      "{'id': 'MCO3025', 'name': 'Libros, Revistas y Comics'}\n",
      "{'id': 'MCO1168', 'name': 'Música, Películas y Series'}\n",
      "{'id': 'MCO118204', 'name': 'Recuerdos, Piñatería y Fiestas'}\n",
      "{'id': 'MCO3937', 'name': 'Relojes y Joyas'}\n",
      "{'id': 'MCO1430', 'name': 'Ropa y Accesorios'}\n",
      "{'id': 'MCO180800', 'name': 'Salud y Equipamiento Médico'}\n",
      "{'id': 'MCO1540', 'name': 'Servicios'}\n",
      "{'id': 'MCO1953', 'name': 'Otras categorías'}\n"
     ]
    }
   ],
   "source": [
    "\n",
    "diccat = r.json()\n",
    "for cat in diccat:\n",
    "    print(cat)"
   ]
  },
  {
   "cell_type": "markdown",
   "metadata": {},
   "source": [
    " "
   ]
  },
  {
   "cell_type": "markdown",
   "metadata": {},
   "source": [
    "La api que contiene las características de cada categoría es: \"https://api.mercadolibre.com/sites/MCO/search?category=id_cat&offset=numerodehoja\", donde id_cat es el id de la categoría de interés y numerodehoja es el número de offset a consultar, un ejemplo es: "
   ]
  },
  {
   "cell_type": "code",
   "execution_count": 3,
   "metadata": {},
   "outputs": [],
   "source": [
    "e =requests.get('https://api.mercadolibre.com/sites/MCO/search?category=MCO1071&offset=2')\n"
   ]
  },
  {
   "cell_type": "markdown",
   "metadata": {},
   "source": [
    " "
   ]
  },
  {
   "cell_type": "markdown",
   "metadata": {},
   "source": [
    "Ahora se concatena el fragmento de api \"https://api.mercadolibre.com/sites/MCO/search?\" con el id de cada una de las categorías guardadas en el diccionario diccat, recorriendo este diccionario se hace el llamado de la api de cada categoía (tomando las 50 primeras hojas) y los resultados se guardan en el diccionario d_product."
   ]
  },
  {
   "cell_type": "code",
   "execution_count": 4,
   "metadata": {},
   "outputs": [
    {
     "name": "stderr",
     "output_type": "stream",
     "text": [
      "100%|██████████| 32/32 [11:49<00:00, 22.17s/it]\n"
     ]
    }
   ],
   "source": [
    "offset= [0,50,100,150,200,250,300,400,450,500,550,600,650,700,750]\n",
    "d_product=[]\n",
    "for cat in tqdm(diccat):\n",
    "    for i in offset:\n",
    "        \n",
    "        api = f'https://api.mercadolibre.com/sites/MCO/search?'\n",
    "        cat_id = cat['id']\n",
    "        catml= f'category={cat_id}&offset={i}'\n",
    "        r =requests.get(f'{api}{catml}')\n",
    "        d_product.append(r.json())\n",
    "        "
   ]
  },
  {
   "cell_type": "markdown",
   "metadata": {},
   "source": [
    " "
   ]
  },
  {
   "cell_type": "markdown",
   "metadata": {},
   "source": [
    "Hasta aca hemos guardado en el diccionario d_product toda la información de los productos de cada categoría (los productos que aparecen en las primeras 50 hojas), ahora se hará el llamado de la información relacionada con el vendedor, teniendo en cuenta que la api que contiene la información de los vendedores es \"https://api.mercadolibre.com/users/id_seller\", donde id_seller sera reemplazado por el número de id del vendedor, el cual lo podemos encontrar en el diccionario d_product."
   ]
  },
  {
   "cell_type": "markdown",
   "metadata": {},
   "source": [
    "de d_product traemos el id del vendedor para poder relacionarlo en la api de los usuarios, posteriormente se hace el llamado de un solo usuario para que podamos visualizar la información disponible del vendedor:"
   ]
  },
  {
   "cell_type": "code",
   "execution_count": 6,
   "metadata": {},
   "outputs": [],
   "source": [
    "id_seller=d_product[0][\"results\"][0][\"seller\"][\"id\"]\n",
    "callsell=f'https://api.mercadolibre.com/users/{id_seller}'"
   ]
  },
  {
   "cell_type": "code",
   "execution_count": 8,
   "metadata": {},
   "outputs": [
    {
     "data": {
      "text/plain": [
       "{'id': 147458773,\n",
       " 'nickname': 'GMCOMUNICACIONESY ELECTRONICA',\n",
       " 'registration_date': '2013-10-14T13:45:44.000-04:00',\n",
       " 'country_id': 'CO',\n",
       " 'address': {'city': 'Puente Aranda', 'state': 'CO-DC'},\n",
       " 'user_type': 'normal',\n",
       " 'tags': ['normal', 'eshop', 'mshops'],\n",
       " 'logo': None,\n",
       " 'points': 6633,\n",
       " 'site_id': 'MCO',\n",
       " 'permalink': 'http://perfil.mercadolibre.com.co/GMCOMUNICACIONESY+ELECTRONICA',\n",
       " 'seller_reputation': {'level_id': '5_green',\n",
       "  'power_seller_status': 'platinum',\n",
       "  'transactions': {'canceled': 875,\n",
       "   'completed': 19404,\n",
       "   'period': 'historic',\n",
       "   'ratings': {'negative': 0.03, 'neutral': 0.03, 'positive': 0.94},\n",
       "   'total': 20279}},\n",
       " 'buyer_reputation': {'tags': []},\n",
       " 'status': {'site_status': 'active'}}"
      ]
     },
     "execution_count": 8,
     "metadata": {},
     "output_type": "execute_result"
    }
   ],
   "source": [
    "s =requests.get(callsell)\n",
    "s.json()"
   ]
  },
  {
   "cell_type": "markdown",
   "metadata": {},
   "source": [
    " "
   ]
  },
  {
   "cell_type": "markdown",
   "metadata": {},
   "source": [
    "Conociendo que información podemos disponer del producto y del vendedor, se hará un recorrido con metodo for en cada categoría guardada en dic_product, y luego se recorrerá cada uno de los nombres y los valores del objeto results de las categorías, para finalmente guardar toda la información en un DataFrame:"
   ]
  },
  {
   "cell_type": "code",
   "execution_count": 9,
   "metadata": {},
   "outputs": [
    {
     "name": "stderr",
     "output_type": "stream",
     "text": [
      "100%|██████████| 480/480 [2:02:04<00:00, 15.26s/it]\n"
     ]
    }
   ],
   "source": [
    "object_names = ['id', 'site_id', 'title', 'price', 'sale_price',\n",
    "             'currency_id', 'available_quantity', 'sold_quantity', 'buying_mode',\n",
    "             'listing_type_id', 'stop_time', 'condition', 'permalink', 'thumbnail', \n",
    "             'thumbnail_id', 'accepts_mercadopago', 'original_price', \n",
    "             'category_id', 'official_store_id', 'domain_id', 'catalog_product_id',\n",
    "              'use_thumbnail_id'] # nombres a traer del objeto results de cada una de las api de categorías.\n",
    "dataset_productos = pd.DataFrame()\n",
    "for i in tqdm(d_product):\n",
    "    for result in i[\"results\"]:\n",
    "        try: #se declara try pues se intentó sin este y el for se detenia por el error de ejecución: \"results\",\n",
    "            # por tanto se manejara este error de ejecución como una excepción\n",
    "    \n",
    "            \n",
    "            dataset = {'object_'+name: result[name] for name in object_names}#guardamos en \"dataset\" los nombres (y sus valores) \n",
    "            dataset['General_category_id'] = i['filters'][0]['values'][0]['id']\n",
    "            dataset['General_category_name'] = i['filters'][0]['values'][0]['name']\n",
    "\n",
    "\n",
    "            dataset['free_ship'] = result['shipping']['free_shipping']# creamos nuevas columnas en dataset para guardar\n",
    "            dataset['ship_mode'] = result['shipping']['mode']         # la información de ship que esta dentro de una jerarqía\n",
    "            dataset['ship_logistic_type'] = result['shipping']['logistic_type']\n",
    "            dataset['ship_storepickup'] = result['shipping']['store_pick_up']\n",
    "\n",
    "\n",
    "\n",
    "            id_seller=result[\"seller\"][\"id\"] # de cada objeto results de cada categoría traemos el id del vendedor\n",
    "\n",
    "            callsell=f'https://api.mercadolibre.com/users/{id_seller}' \n",
    "            s =requests.get(callsell) # con cada id se hace el llamado de la api que contiene la información del vendedor\n",
    "            sj=s.json()\n",
    "            dataset[\"seller_level\"] = sj[\"seller_reputation\"] [\"level_id\"] # se crean nuevas columnas en dataset para guardar la información del vendedor\n",
    "            dataset[\"seller_power_status\"] = sj[\"seller_reputation\"] [\"power_seller_status\"]\n",
    "            dataset[\"sellertransactions_canceled\"] = sj[\"seller_reputation\"][\"transactions\"] [\"canceled\"]\n",
    "            dataset[\"sellertransactions_completed\"] = sj[\"seller_reputation\"][\"transactions\"] [\"completed\"]\n",
    "            dataset[\"sellertransactions_total\"] = sj[\"seller_reputation\"][\"transactions\"] [\"total\"]\n",
    "            dataset[\"sellertransactions_period\"] = sj[\"seller_reputation\"][\"transactions\"] [\"period\"]\n",
    "            dataset[\"sellerrating_negative\"] = sj[\"seller_reputation\"][\"transactions\"] [\"ratings\"][\"negative\"]\n",
    "            dataset[\"sellerrating_neutral\"] = sj[\"seller_reputation\"][\"transactions\"] [\"ratings\"][\"neutral\"]\n",
    "            dataset[\"sellerrating_positive\"] = sj[\"seller_reputation\"][\"transactions\"] [\"ratings\"][\"positive\"]\n",
    "            item = pd.DataFrame(dataset, index=[0])\n",
    "            dataset_productos= pd.concat([item, dataset_productos], axis=0) # se concatena la información de cada categoria\n",
    "            \n",
    "        except:\n",
    "            print(\"error de ejecución\")\n",
    "            \n",
    "            "
   ]
  },
  {
   "cell_type": "code",
   "execution_count": 10,
   "metadata": {},
   "outputs": [
    {
     "data": {
      "text/plain": [
       "(23601, 37)"
      ]
     },
     "execution_count": 10,
     "metadata": {},
     "output_type": "execute_result"
    }
   ],
   "source": [
    "dataset_productos.shape"
   ]
  },
  {
   "cell_type": "markdown",
   "metadata": {},
   "source": [
    " "
   ]
  },
  {
   "cell_type": "markdown",
   "metadata": {},
   "source": [
    " "
   ]
  },
  {
   "cell_type": "markdown",
   "metadata": {},
   "source": [
    "Puesto que llamar toda la información tardó cerca de 2 horas, se guradará el dataset en un csv, para trabajar en los siguientes puntos sobre este archivo:"
   ]
  },
  {
   "cell_type": "code",
   "execution_count": 12,
   "metadata": {},
   "outputs": [],
   "source": [
    "ruta = \"./files/dataset_productos.csv\"\n",
    "dataset_productos.to_csv(ruta,index=False)"
   ]
  }
 ],
 "metadata": {
  "kernelspec": {
   "display_name": "Python 3",
   "language": "python",
   "name": "python3"
  },
  "language_info": {
   "codemirror_mode": {
    "name": "ipython",
    "version": 3
   },
   "file_extension": ".py",
   "mimetype": "text/x-python",
   "name": "python",
   "nbconvert_exporter": "python",
   "pygments_lexer": "ipython3",
   "version": "3.7.7"
  }
 },
 "nbformat": 4,
 "nbformat_minor": 4
}
